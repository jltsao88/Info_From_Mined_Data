{
 "cells": [
  {
   "cell_type": "markdown",
   "metadata": {},
   "source": [
    "# Exploring and Wrangling the Data"
   ]
  },
  {
   "cell_type": "code",
   "execution_count": 19,
   "metadata": {
    "collapsed": true
   },
   "outputs": [],
   "source": [
    "#Import Libraries for Wrangling, Cleaning, and Exploratory data analysis\n",
    "import spacy\n",
    "import numpy as np\n",
    "import pandas as pd\n",
    "import matplotlib.pyplot as plt\n",
    "import seaborn as sn\n",
    "import warnings\n",
    "\n",
    "#Enable plots in jupyter notebook\n",
    "%matplotlib inline\n",
    "#Display full columns in pandas dataframes\n",
    "pd.set_option(\"display.max_columns\", None)\n",
    "pd.set_option(\"display.max_colwidth\", -1)\n",
    "#hide warning messages for cleaner looking notebook\n",
    "warnings.filterwarnings('ignore')"
   ]
  },
  {
   "cell_type": "markdown",
   "metadata": {},
   "source": [
    "## Inspect Data Files"
   ]
  },
  {
   "cell_type": "markdown",
   "metadata": {},
   "source": [
    "### Examine the file APPAREL_ids_1_2019.csv"
   ]
  },
  {
   "cell_type": "code",
   "execution_count": 4,
   "metadata": {
    "collapsed": true
   },
   "outputs": [],
   "source": [
    "#Load in file as a Dataframe\n",
    "df1 = pd.read_csv('C:\\\\Users\\\\jltsa\\\\Desktop\\\\hearful\\\\APPAREL_ids_1_2019.csv')"
   ]
  },
  {
   "cell_type": "code",
   "execution_count": 226,
   "metadata": {},
   "outputs": [
    {
     "data": {
      "text/html": [
       "<div>\n",
       "<style scoped>\n",
       "    .dataframe tbody tr th:only-of-type {\n",
       "        vertical-align: middle;\n",
       "    }\n",
       "\n",
       "    .dataframe tbody tr th {\n",
       "        vertical-align: top;\n",
       "    }\n",
       "\n",
       "    .dataframe thead th {\n",
       "        text-align: right;\n",
       "    }\n",
       "</style>\n",
       "<table border=\"1\" class=\"dataframe\">\n",
       "  <thead>\n",
       "    <tr style=\"text-align: right;\">\n",
       "      <th></th>\n",
       "      <th>_id</th>\n",
       "      <th>domain_global_string</th>\n",
       "      <th>review_rating</th>\n",
       "      <th>review_text</th>\n",
       "      <th>review_title</th>\n",
       "      <th>use_sentiment_label</th>\n",
       "      <th>use_theme_exists</th>\n",
       "      <th>fit_sentiment_label</th>\n",
       "      <th>fit_theme_exists</th>\n",
       "      <th>value_sentiment_label</th>\n",
       "      <th>value_theme_exists</th>\n",
       "      <th>style_sentiment_label</th>\n",
       "      <th>style_theme_exists</th>\n",
       "      <th>quality_sentiment_label</th>\n",
       "      <th>quality_theme_exists</th>\n",
       "      <th>notes</th>\n",
       "    </tr>\n",
       "  </thead>\n",
       "  <tbody>\n",
       "    <tr>\n",
       "      <th>0</th>\n",
       "      <td>academy58403947</td>\n",
       "      <td>APPAREL</td>\n",
       "      <td>5</td>\n",
       "      <td>The shorts were excellent in color and style. My husband always elects if possible to purchase Adidas apparel. However, the shorts I ordered were medium, those received were medium, they seemed to be cut smaller. Rather than return them, I gave them to a friend. My husband went to the local Academy to purchase another pair.</td>\n",
       "      <td>NaN</td>\n",
       "      <td>NaN</td>\n",
       "      <td>NaN</td>\n",
       "      <td>NaN</td>\n",
       "      <td>NaN</td>\n",
       "      <td>pos</td>\n",
       "      <td>1.0</td>\n",
       "      <td>pos</td>\n",
       "      <td>1.0</td>\n",
       "      <td>NaN</td>\n",
       "      <td>NaN</td>\n",
       "      <td>NaN</td>\n",
       "    </tr>\n",
       "    <tr>\n",
       "      <th>1</th>\n",
       "      <td>adidas100338674</td>\n",
       "      <td>APPAREL</td>\n",
       "      <td>4</td>\n",
       "      <td>Fab running shorts. Only thing I'd change is the key pocket. Wish it tucked in and closed.</td>\n",
       "      <td>Retro vibe running!</td>\n",
       "      <td>pos</td>\n",
       "      <td>1.0</td>\n",
       "      <td>NaN</td>\n",
       "      <td>NaN</td>\n",
       "      <td>NaN</td>\n",
       "      <td>NaN</td>\n",
       "      <td>NaN</td>\n",
       "      <td>NaN</td>\n",
       "      <td>pos</td>\n",
       "      <td>1.0</td>\n",
       "      <td>NaN</td>\n",
       "    </tr>\n",
       "  </tbody>\n",
       "</table>\n",
       "</div>"
      ],
      "text/plain": [
       "               _id domain_global_string  review_rating  \\\n",
       "0  academy58403947  APPAREL              5               \n",
       "1  adidas100338674  APPAREL              4               \n",
       "\n",
       "                                                                                                                                                                                                                                                                                                                             review_text  \\\n",
       "0  The shorts were excellent in color and style. My husband always elects if possible to purchase Adidas apparel. However, the shorts I ordered were medium, those received were medium, they seemed to be cut smaller. Rather than return them, I gave them to a friend. My husband went to the local Academy to purchase another pair.   \n",
       "1  Fab running shorts. Only thing I'd change is the key pocket. Wish it tucked in and closed.                                                                                                                                                                                                                                              \n",
       "\n",
       "          review_title use_sentiment_label  use_theme_exists  \\\n",
       "0  NaN                  NaN                NaN                 \n",
       "1  Retro vibe running!  pos                 1.0                \n",
       "\n",
       "  fit_sentiment_label  fit_theme_exists value_sentiment_label  \\\n",
       "0  NaN                NaN                pos                    \n",
       "1  NaN                NaN                NaN                    \n",
       "\n",
       "   value_theme_exists style_sentiment_label  style_theme_exists  \\\n",
       "0  1.0                 pos                   1.0                  \n",
       "1 NaN                  NaN                  NaN                   \n",
       "\n",
       "  quality_sentiment_label  quality_theme_exists  notes  \n",
       "0  NaN                    NaN                   NaN     \n",
       "1  pos                     1.0                  NaN     "
      ]
     },
     "execution_count": 226,
     "metadata": {},
     "output_type": "execute_result"
    }
   ],
   "source": [
    "#Examine first 2 rows of data\n",
    "df1.head(2)"
   ]
  },
  {
   "cell_type": "code",
   "execution_count": 6,
   "metadata": {
    "scrolled": true
   },
   "outputs": [
    {
     "name": "stdout",
     "output_type": "stream",
     "text": [
      "<class 'pandas.core.frame.DataFrame'>\n",
      "RangeIndex: 300 entries, 0 to 299\n",
      "Data columns (total 15 columns):\n",
      "_id                        300 non-null object\n",
      "domain_global_string       300 non-null object\n",
      "review_rating              300 non-null int64\n",
      "review_text                300 non-null object\n",
      "review_title               278 non-null object\n",
      "use_sentiment_label        146 non-null object\n",
      "use_theme_exists           156 non-null float64\n",
      "fit_sentiment_label        220 non-null object\n",
      "fit_theme_exists           226 non-null float64\n",
      "value_sentiment_label      93 non-null object\n",
      "value_theme_exists         99 non-null float64\n",
      "style_sentiment_label      180 non-null object\n",
      "style_theme_exists         183 non-null float64\n",
      "quality_sentiment_label    201 non-null object\n",
      "quality_theme_exists       215 non-null float64\n",
      "dtypes: float64(5), int64(1), object(9)\n",
      "memory usage: 35.2+ KB\n"
     ]
    }
   ],
   "source": [
    "df1.info()"
   ]
  },
  {
   "cell_type": "markdown",
   "metadata": {},
   "source": [
    "There are 300 rows of data in this file.  There are missing values in some columns.  We will have to determine if we need to impute the data in the columns or remove the column entirely depending on what will be done with the data.  "
   ]
  },
  {
   "cell_type": "markdown",
   "metadata": {},
   "source": [
    "I noticed there was some encoding issues in the file when opening the .csv file in Excel for the 11th row in the column 'review_text'. Index row 10 in the dataframe.  This was row 12 in the excel file. We will view it below."
   ]
  },
  {
   "cell_type": "code",
   "execution_count": 20,
   "metadata": {},
   "outputs": [
    {
     "data": {
      "text/html": [
       "<div>\n",
       "<style scoped>\n",
       "    .dataframe tbody tr th:only-of-type {\n",
       "        vertical-align: middle;\n",
       "    }\n",
       "\n",
       "    .dataframe tbody tr th {\n",
       "        vertical-align: top;\n",
       "    }\n",
       "\n",
       "    .dataframe thead th {\n",
       "        text-align: right;\n",
       "    }\n",
       "</style>\n",
       "<table border=\"1\" class=\"dataframe\">\n",
       "  <thead>\n",
       "    <tr style=\"text-align: right;\">\n",
       "      <th></th>\n",
       "      <th>review_text</th>\n",
       "    </tr>\n",
       "  </thead>\n",
       "  <tbody>\n",
       "    <tr>\n",
       "      <th>10</th>\n",
       "      <td>It look very nice and for the price it’s a very good buy. You’ll not find anything like this in a TH store for this amount of money, I checked. I wouldn’t mind if it was a bit less baggy but that’s because I’m quite slim.</td>\n",
       "    </tr>\n",
       "  </tbody>\n",
       "</table>\n",
       "</div>"
      ],
      "text/plain": [
       "                                                                                                                                                                                                                      review_text\n",
       "10  It look very nice and for the price it’s a very good buy. You’ll not find anything like this in a TH store for this amount of money, I checked. I wouldn’t mind if it was a bit less baggy but that’s because I’m quite slim."
      ]
     },
     "execution_count": 20,
     "metadata": {},
     "output_type": "execute_result"
    }
   ],
   "source": [
    "df1.iloc[[10],[3]]"
   ]
  },
  {
   "cell_type": "markdown",
   "metadata": {},
   "source": [
    "Pandas encodes it correctly when casting it to a Dataframe object."
   ]
  },
  {
   "cell_type": "markdown",
   "metadata": {},
   "source": [
    "## Examine the file APPAREL_ODOM_1_2019.csv"
   ]
  },
  {
   "cell_type": "code",
   "execution_count": 26,
   "metadata": {},
   "outputs": [],
   "source": [
    "#Load in file as a dataframe\n",
    "df2 = pd.read_csv('C:\\\\Users\\\\jltsa\\\\Desktop\\\\hearful\\\\APPAREL_ODOM_1_2019.csv')"
   ]
  },
  {
   "cell_type": "code",
   "execution_count": 225,
   "metadata": {},
   "outputs": [
    {
     "data": {
      "text/html": [
       "<div>\n",
       "<style scoped>\n",
       "    .dataframe tbody tr th:only-of-type {\n",
       "        vertical-align: middle;\n",
       "    }\n",
       "\n",
       "    .dataframe tbody tr th {\n",
       "        vertical-align: top;\n",
       "    }\n",
       "\n",
       "    .dataframe thead th {\n",
       "        text-align: right;\n",
       "    }\n",
       "</style>\n",
       "<table border=\"1\" class=\"dataframe\">\n",
       "  <thead>\n",
       "    <tr style=\"text-align: right;\">\n",
       "      <th></th>\n",
       "      <th>_id</th>\n",
       "      <th>domain_global_string</th>\n",
       "      <th>review_rating</th>\n",
       "      <th>notes</th>\n",
       "      <th>review_text</th>\n",
       "      <th>review_title</th>\n",
       "      <th>use_sentiment_label</th>\n",
       "      <th>use_theme_exists</th>\n",
       "      <th>fit_sentiment_label</th>\n",
       "      <th>fit_theme_exists</th>\n",
       "      <th>value_sentiment_label</th>\n",
       "      <th>value_theme_exists</th>\n",
       "      <th>style_sentiment_label</th>\n",
       "      <th>style_theme_exists</th>\n",
       "      <th>quality_sentiment_label</th>\n",
       "      <th>quality_theme_exists</th>\n",
       "    </tr>\n",
       "  </thead>\n",
       "  <tbody>\n",
       "    <tr>\n",
       "      <th>0</th>\n",
       "      <td>academy58403947</td>\n",
       "      <td>APPAREL</td>\n",
       "      <td>5</td>\n",
       "      <td>NaN</td>\n",
       "      <td>The shorts were excellent in color and style. My husband always elects if possible to purchase Adidas apparel. However, the shorts I ordered were medium, those received were medium, they seemed to be cut smaller. Rather than return them, I gave them to a friend. My husband went to the local Academy to purchase another pair.</td>\n",
       "      <td>NaN</td>\n",
       "      <td>NaN</td>\n",
       "      <td>0</td>\n",
       "      <td>neg</td>\n",
       "      <td>1</td>\n",
       "      <td>NaN</td>\n",
       "      <td>0</td>\n",
       "      <td>pos</td>\n",
       "      <td>1</td>\n",
       "      <td>NaN</td>\n",
       "      <td>0.0</td>\n",
       "    </tr>\n",
       "    <tr>\n",
       "      <th>1</th>\n",
       "      <td>adidas100338674</td>\n",
       "      <td>APPAREL</td>\n",
       "      <td>4</td>\n",
       "      <td>X</td>\n",
       "      <td>Fab running shorts. Only thing I'd change is the key pocket. Wish it tucked in and closed.</td>\n",
       "      <td>Retro vibe running!</td>\n",
       "      <td>NaN</td>\n",
       "      <td>0</td>\n",
       "      <td>NaN</td>\n",
       "      <td>0</td>\n",
       "      <td>NaN</td>\n",
       "      <td>0</td>\n",
       "      <td>pos</td>\n",
       "      <td>1</td>\n",
       "      <td>neg</td>\n",
       "      <td>1.0</td>\n",
       "    </tr>\n",
       "  </tbody>\n",
       "</table>\n",
       "</div>"
      ],
      "text/plain": [
       "               _id domain_global_string  review_rating notes  \\\n",
       "0  academy58403947  APPAREL              5              NaN    \n",
       "1  adidas100338674  APPAREL              4              X      \n",
       "\n",
       "                                                                                                                                                                                                                                                                                                                             review_text  \\\n",
       "0  The shorts were excellent in color and style. My husband always elects if possible to purchase Adidas apparel. However, the shorts I ordered were medium, those received were medium, they seemed to be cut smaller. Rather than return them, I gave them to a friend. My husband went to the local Academy to purchase another pair.   \n",
       "1  Fab running shorts. Only thing I'd change is the key pocket. Wish it tucked in and closed.                                                                                                                                                                                                                                              \n",
       "\n",
       "          review_title use_sentiment_label  use_theme_exists  \\\n",
       "0  NaN                  NaN                 0                  \n",
       "1  Retro vibe running!  NaN                 0                  \n",
       "\n",
       "  fit_sentiment_label  fit_theme_exists value_sentiment_label  \\\n",
       "0  neg                 1                 NaN                    \n",
       "1  NaN                 0                 NaN                    \n",
       "\n",
       "   value_theme_exists style_sentiment_label  style_theme_exists  \\\n",
       "0  0                   pos                   1                    \n",
       "1  0                   pos                   1                    \n",
       "\n",
       "  quality_sentiment_label  quality_theme_exists  \n",
       "0  NaN                     0.0                   \n",
       "1  neg                     1.0                   "
      ]
     },
     "execution_count": 225,
     "metadata": {},
     "output_type": "execute_result"
    }
   ],
   "source": [
    "#View first 2 rows\n",
    "df2.head(2)"
   ]
  },
  {
   "cell_type": "code",
   "execution_count": 28,
   "metadata": {},
   "outputs": [
    {
     "name": "stdout",
     "output_type": "stream",
     "text": [
      "<class 'pandas.core.frame.DataFrame'>\n",
      "RangeIndex: 298 entries, 0 to 297\n",
      "Data columns (total 16 columns):\n",
      "_id                        298 non-null object\n",
      "domain_global_string       298 non-null object\n",
      "review_rating              298 non-null int64\n",
      "notes                      97 non-null object\n",
      "review_text                298 non-null object\n",
      "review_title               278 non-null object\n",
      "use_sentiment_label        110 non-null object\n",
      "use_theme_exists           298 non-null int64\n",
      "fit_sentiment_label        209 non-null object\n",
      "fit_theme_exists           298 non-null int64\n",
      "value_sentiment_label      101 non-null object\n",
      "value_theme_exists         298 non-null int64\n",
      "style_sentiment_label      120 non-null object\n",
      "style_theme_exists         298 non-null int64\n",
      "quality_sentiment_label    189 non-null object\n",
      "quality_theme_exists       297 non-null float64\n",
      "dtypes: float64(1), int64(5), object(10)\n",
      "memory usage: 37.3+ KB\n"
     ]
    }
   ],
   "source": [
    "df2.info()"
   ]
  },
  {
   "cell_type": "markdown",
   "metadata": {},
   "source": [
    "The data in this file is different.  There is a 'notes' column not present in the file APPAREL_ids_1_2019.csv.  There are 2 less rows in this file.  Also, some of the rows are missing different amounts of data.  "
   ]
  },
  {
   "cell_type": "code",
   "execution_count": 32,
   "metadata": {},
   "outputs": [
    {
     "data": {
      "text/html": [
       "<div>\n",
       "<style scoped>\n",
       "    .dataframe tbody tr th:only-of-type {\n",
       "        vertical-align: middle;\n",
       "    }\n",
       "\n",
       "    .dataframe tbody tr th {\n",
       "        vertical-align: top;\n",
       "    }\n",
       "\n",
       "    .dataframe thead th {\n",
       "        text-align: right;\n",
       "    }\n",
       "</style>\n",
       "<table border=\"1\" class=\"dataframe\">\n",
       "  <thead>\n",
       "    <tr style=\"text-align: right;\">\n",
       "      <th></th>\n",
       "      <th>review_text</th>\n",
       "    </tr>\n",
       "  </thead>\n",
       "  <tbody>\n",
       "    <tr>\n",
       "      <th>10</th>\n",
       "      <td>It look very nice and for the price it’s a very good buy. You’ll not find anything like this in a TH store for this amount of money, I checked. I wouldn’t mind if it was a bit less baggy but that’s because I’m quite slim.</td>\n",
       "    </tr>\n",
       "  </tbody>\n",
       "</table>\n",
       "</div>"
      ],
      "text/plain": [
       "                                                                                                                                                                                                                      review_text\n",
       "10  It look very nice and for the price it’s a very good buy. You’ll not find anything like this in a TH store for this amount of money, I checked. I wouldn’t mind if it was a bit less baggy but that’s because I’m quite slim."
      ]
     },
     "execution_count": 32,
     "metadata": {},
     "output_type": "execute_result"
    }
   ],
   "source": [
    "#Checking to see if Pandas correctly encoded the same review text as in file APPAREL_ids_1_2019.csv\n",
    "df2.iloc[[10],[4]]"
   ]
  },
  {
   "cell_type": "markdown",
   "metadata": {},
   "source": [
    "## Examine the file APPAREL_ODOM_1_2019.xlsx"
   ]
  },
  {
   "cell_type": "code",
   "execution_count": 33,
   "metadata": {
    "collapsed": true
   },
   "outputs": [],
   "source": [
    "#Load in file\n",
    "df3 = pd.read_excel('C:\\\\Users\\\\jltsa\\\\Desktop\\\\hearful\\\\APPAREL_ODOM_1_2019.xlsx')"
   ]
  },
  {
   "cell_type": "code",
   "execution_count": 224,
   "metadata": {},
   "outputs": [
    {
     "data": {
      "text/html": [
       "<div>\n",
       "<style scoped>\n",
       "    .dataframe tbody tr th:only-of-type {\n",
       "        vertical-align: middle;\n",
       "    }\n",
       "\n",
       "    .dataframe tbody tr th {\n",
       "        vertical-align: top;\n",
       "    }\n",
       "\n",
       "    .dataframe thead th {\n",
       "        text-align: right;\n",
       "    }\n",
       "</style>\n",
       "<table border=\"1\" class=\"dataframe\">\n",
       "  <thead>\n",
       "    <tr style=\"text-align: right;\">\n",
       "      <th></th>\n",
       "      <th>_id</th>\n",
       "      <th>domain_global_string</th>\n",
       "      <th>review_rating</th>\n",
       "      <th>notes</th>\n",
       "      <th>review_text</th>\n",
       "      <th>review_title</th>\n",
       "      <th>use_sentiment_label</th>\n",
       "      <th>use_theme_exists</th>\n",
       "      <th>fit_sentiment_label</th>\n",
       "      <th>fit_theme_exists</th>\n",
       "      <th>value_sentiment_label</th>\n",
       "      <th>value_theme_exists</th>\n",
       "      <th>style_sentiment_label</th>\n",
       "      <th>style_theme_exists</th>\n",
       "      <th>quality_sentiment_label</th>\n",
       "      <th>quality_theme_exists</th>\n",
       "    </tr>\n",
       "  </thead>\n",
       "  <tbody>\n",
       "    <tr>\n",
       "      <th>0</th>\n",
       "      <td>academy58403947</td>\n",
       "      <td>APPAREL</td>\n",
       "      <td>5</td>\n",
       "      <td>NaN</td>\n",
       "      <td>The shorts were excellent in color and style. My husband always elects if possible to purchase Adidas apparel. However, the shorts I ordered were medium, those received were medium, they seemed to be cut smaller. Rather than return them, I gave them to a friend. My husband went to the local Academy to purchase another pair.</td>\n",
       "      <td>NaN</td>\n",
       "      <td>NaN</td>\n",
       "      <td>0</td>\n",
       "      <td>neg</td>\n",
       "      <td>1</td>\n",
       "      <td>NaN</td>\n",
       "      <td>0</td>\n",
       "      <td>pos</td>\n",
       "      <td>1</td>\n",
       "      <td>NaN</td>\n",
       "      <td>0.0</td>\n",
       "    </tr>\n",
       "    <tr>\n",
       "      <th>1</th>\n",
       "      <td>adidas100338674</td>\n",
       "      <td>APPAREL</td>\n",
       "      <td>4</td>\n",
       "      <td>X</td>\n",
       "      <td>Fab running shorts. Only thing I'd change is the key pocket. Wish it tucked in and closed.</td>\n",
       "      <td>Retro vibe running!</td>\n",
       "      <td>NaN</td>\n",
       "      <td>0</td>\n",
       "      <td>NaN</td>\n",
       "      <td>0</td>\n",
       "      <td>NaN</td>\n",
       "      <td>0</td>\n",
       "      <td>pos</td>\n",
       "      <td>1</td>\n",
       "      <td>neg</td>\n",
       "      <td>1.0</td>\n",
       "    </tr>\n",
       "  </tbody>\n",
       "</table>\n",
       "</div>"
      ],
      "text/plain": [
       "               _id domain_global_string  review_rating notes  \\\n",
       "0  academy58403947  APPAREL              5              NaN    \n",
       "1  adidas100338674  APPAREL              4              X      \n",
       "\n",
       "                                                                                                                                                                                                                                                                                                                             review_text  \\\n",
       "0  The shorts were excellent in color and style. My husband always elects if possible to purchase Adidas apparel. However, the shorts I ordered were medium, those received were medium, they seemed to be cut smaller. Rather than return them, I gave them to a friend. My husband went to the local Academy to purchase another pair.   \n",
       "1  Fab running shorts. Only thing I'd change is the key pocket. Wish it tucked in and closed.                                                                                                                                                                                                                                              \n",
       "\n",
       "          review_title use_sentiment_label  use_theme_exists  \\\n",
       "0  NaN                  NaN                 0                  \n",
       "1  Retro vibe running!  NaN                 0                  \n",
       "\n",
       "  fit_sentiment_label  fit_theme_exists value_sentiment_label  \\\n",
       "0  neg                 1                 NaN                    \n",
       "1  NaN                 0                 NaN                    \n",
       "\n",
       "   value_theme_exists style_sentiment_label  style_theme_exists  \\\n",
       "0  0                   pos                   1                    \n",
       "1  0                   pos                   1                    \n",
       "\n",
       "  quality_sentiment_label  quality_theme_exists  \n",
       "0  NaN                     0.0                   \n",
       "1  neg                     1.0                   "
      ]
     },
     "execution_count": 224,
     "metadata": {},
     "output_type": "execute_result"
    }
   ],
   "source": [
    "#look at first 2 rows\n",
    "df3.head(2)"
   ]
  },
  {
   "cell_type": "code",
   "execution_count": 35,
   "metadata": {},
   "outputs": [
    {
     "name": "stdout",
     "output_type": "stream",
     "text": [
      "<class 'pandas.core.frame.DataFrame'>\n",
      "RangeIndex: 298 entries, 0 to 297\n",
      "Data columns (total 16 columns):\n",
      "_id                        298 non-null object\n",
      "domain_global_string       298 non-null object\n",
      "review_rating              298 non-null int64\n",
      "notes                      97 non-null object\n",
      "review_text                298 non-null object\n",
      "review_title               278 non-null object\n",
      "use_sentiment_label        110 non-null object\n",
      "use_theme_exists           298 non-null int64\n",
      "fit_sentiment_label        202 non-null object\n",
      "fit_theme_exists           298 non-null int64\n",
      "value_sentiment_label      95 non-null object\n",
      "value_theme_exists         298 non-null int64\n",
      "style_sentiment_label      120 non-null object\n",
      "style_theme_exists         298 non-null int64\n",
      "quality_sentiment_label    185 non-null object\n",
      "quality_theme_exists       297 non-null float64\n",
      "dtypes: float64(1), int64(5), object(10)\n",
      "memory usage: 37.3+ KB\n"
     ]
    }
   ],
   "source": [
    "df3.info()"
   ]
  },
  {
   "cell_type": "code",
   "execution_count": 50,
   "metadata": {},
   "outputs": [
    {
     "name": "stdout",
     "output_type": "stream",
     "text": [
      "<class 'pandas.core.frame.DataFrame'>\n",
      "RangeIndex: 298 entries, 0 to 297\n",
      "Data columns (total 16 columns):\n",
      "_id                        298 non-null object\n",
      "domain_global_string       298 non-null object\n",
      "review_rating              298 non-null int64\n",
      "notes                      97 non-null object\n",
      "review_text                298 non-null object\n",
      "review_title               278 non-null object\n",
      "use_sentiment_label        110 non-null object\n",
      "use_theme_exists           298 non-null int64\n",
      "fit_sentiment_label        209 non-null object\n",
      "fit_theme_exists           298 non-null int64\n",
      "value_sentiment_label      101 non-null object\n",
      "value_theme_exists         298 non-null int64\n",
      "style_sentiment_label      120 non-null object\n",
      "style_theme_exists         298 non-null int64\n",
      "quality_sentiment_label    189 non-null object\n",
      "quality_theme_exists       297 non-null float64\n",
      "dtypes: float64(1), int64(5), object(10)\n",
      "memory usage: 37.3+ KB\n"
     ]
    }
   ],
   "source": [
    "#look at df2.info() again and compare\n",
    "df2.info()"
   ]
  },
  {
   "cell_type": "markdown",
   "metadata": {},
   "source": [
    "All the files are different and have missing data and the data will need to be combined neatly into one clean table.  I will merge the Pandas dataframes which is idiomatically similar to JOINS in a realtional database like SQL."
   ]
  },
  {
   "cell_type": "markdown",
   "metadata": {},
   "source": [
    "Check to see if '_id' columns in all files are all unique values"
   ]
  },
  {
   "cell_type": "code",
   "execution_count": 40,
   "metadata": {},
   "outputs": [
    {
     "data": {
      "text/plain": [
       "298"
      ]
     },
     "execution_count": 40,
     "metadata": {},
     "output_type": "execute_result"
    }
   ],
   "source": [
    "df2['_id'].nunique()"
   ]
  },
  {
   "cell_type": "code",
   "execution_count": 41,
   "metadata": {},
   "outputs": [
    {
     "data": {
      "text/plain": [
       "298"
      ]
     },
     "execution_count": 41,
     "metadata": {},
     "output_type": "execute_result"
    }
   ],
   "source": [
    "df3['_id'].nunique()"
   ]
  },
  {
   "cell_type": "code",
   "execution_count": 43,
   "metadata": {},
   "outputs": [
    {
     "data": {
      "text/plain": [
       "300"
      ]
     },
     "execution_count": 43,
     "metadata": {},
     "output_type": "execute_result"
    }
   ],
   "source": [
    "df1['_id'].nunique()"
   ]
  },
  {
   "cell_type": "markdown",
   "metadata": {},
   "source": [
    "## Merge Dataframes"
   ]
  },
  {
   "cell_type": "markdown",
   "metadata": {},
   "source": [
    "All the ids are indeed unique.  We can use the '_id' column as the column to merge/join on."
   ]
  },
  {
   "cell_type": "code",
   "execution_count": 45,
   "metadata": {
    "collapsed": true
   },
   "outputs": [],
   "source": [
    "#Merge df2 and df3 on _id\n",
    "df_merged = pd.merge(df2, df3, how='inner', on='_id')"
   ]
  },
  {
   "cell_type": "code",
   "execution_count": 48,
   "metadata": {
    "scrolled": false
   },
   "outputs": [
    {
     "data": {
      "text/html": [
       "<div>\n",
       "<style scoped>\n",
       "    .dataframe tbody tr th:only-of-type {\n",
       "        vertical-align: middle;\n",
       "    }\n",
       "\n",
       "    .dataframe tbody tr th {\n",
       "        vertical-align: top;\n",
       "    }\n",
       "\n",
       "    .dataframe thead th {\n",
       "        text-align: right;\n",
       "    }\n",
       "</style>\n",
       "<table border=\"1\" class=\"dataframe\">\n",
       "  <thead>\n",
       "    <tr style=\"text-align: right;\">\n",
       "      <th></th>\n",
       "      <th>_id</th>\n",
       "      <th>domain_global_string_x</th>\n",
       "      <th>review_rating_x</th>\n",
       "      <th>notes_x</th>\n",
       "      <th>review_text_x</th>\n",
       "      <th>review_title_x</th>\n",
       "      <th>use_sentiment_label_x</th>\n",
       "      <th>use_theme_exists_x</th>\n",
       "      <th>fit_sentiment_label_x</th>\n",
       "      <th>fit_theme_exists_x</th>\n",
       "      <th>value_sentiment_label_x</th>\n",
       "      <th>value_theme_exists_x</th>\n",
       "      <th>style_sentiment_label_x</th>\n",
       "      <th>style_theme_exists_x</th>\n",
       "      <th>quality_sentiment_label_x</th>\n",
       "      <th>quality_theme_exists_x</th>\n",
       "      <th>domain_global_string_y</th>\n",
       "      <th>review_rating_y</th>\n",
       "      <th>notes_y</th>\n",
       "      <th>review_text_y</th>\n",
       "      <th>review_title_y</th>\n",
       "      <th>use_sentiment_label_y</th>\n",
       "      <th>use_theme_exists_y</th>\n",
       "      <th>fit_sentiment_label_y</th>\n",
       "      <th>fit_theme_exists_y</th>\n",
       "      <th>value_sentiment_label_y</th>\n",
       "      <th>value_theme_exists_y</th>\n",
       "      <th>style_sentiment_label_y</th>\n",
       "      <th>style_theme_exists_y</th>\n",
       "      <th>quality_sentiment_label_y</th>\n",
       "      <th>quality_theme_exists_y</th>\n",
       "    </tr>\n",
       "  </thead>\n",
       "  <tbody>\n",
       "    <tr>\n",
       "      <th>0</th>\n",
       "      <td>academy58403947</td>\n",
       "      <td>APPAREL</td>\n",
       "      <td>5</td>\n",
       "      <td>NaN</td>\n",
       "      <td>The shorts were excellent in color and style. My husband always elects if possible to purchase Adidas apparel. However, the shorts I ordered were medium, those received were medium, they seemed to be cut smaller. Rather than return them, I gave them to a friend. My husband went to the local Academy to purchase another pair.</td>\n",
       "      <td>NaN</td>\n",
       "      <td>NaN</td>\n",
       "      <td>0</td>\n",
       "      <td>neg</td>\n",
       "      <td>1</td>\n",
       "      <td>NaN</td>\n",
       "      <td>0</td>\n",
       "      <td>pos</td>\n",
       "      <td>1</td>\n",
       "      <td>NaN</td>\n",
       "      <td>0.0</td>\n",
       "      <td>APPAREL</td>\n",
       "      <td>5</td>\n",
       "      <td>NaN</td>\n",
       "      <td>The shorts were excellent in color and style. My husband always elects if possible to purchase Adidas apparel. However, the shorts I ordered were medium, those received were medium, they seemed to be cut smaller. Rather than return them, I gave them to a friend. My husband went to the local Academy to purchase another pair.</td>\n",
       "      <td>NaN</td>\n",
       "      <td>NaN</td>\n",
       "      <td>0</td>\n",
       "      <td>neg</td>\n",
       "      <td>1</td>\n",
       "      <td>NaN</td>\n",
       "      <td>0</td>\n",
       "      <td>pos</td>\n",
       "      <td>1</td>\n",
       "      <td>NaN</td>\n",
       "      <td>0.0</td>\n",
       "    </tr>\n",
       "    <tr>\n",
       "      <th>1</th>\n",
       "      <td>adidas100338674</td>\n",
       "      <td>APPAREL</td>\n",
       "      <td>4</td>\n",
       "      <td>X</td>\n",
       "      <td>Fab running shorts. Only thing I'd change is the key pocket. Wish it tucked in and closed.</td>\n",
       "      <td>Retro vibe running!</td>\n",
       "      <td>NaN</td>\n",
       "      <td>0</td>\n",
       "      <td>NaN</td>\n",
       "      <td>0</td>\n",
       "      <td>NaN</td>\n",
       "      <td>0</td>\n",
       "      <td>pos</td>\n",
       "      <td>1</td>\n",
       "      <td>neg</td>\n",
       "      <td>1.0</td>\n",
       "      <td>APPAREL</td>\n",
       "      <td>4</td>\n",
       "      <td>X</td>\n",
       "      <td>Fab running shorts. Only thing I'd change is the key pocket. Wish it tucked in and closed.</td>\n",
       "      <td>Retro vibe running!</td>\n",
       "      <td>NaN</td>\n",
       "      <td>0</td>\n",
       "      <td>NaN</td>\n",
       "      <td>0</td>\n",
       "      <td>NaN</td>\n",
       "      <td>0</td>\n",
       "      <td>pos</td>\n",
       "      <td>1</td>\n",
       "      <td>neg</td>\n",
       "      <td>1.0</td>\n",
       "    </tr>\n",
       "  </tbody>\n",
       "</table>\n",
       "</div>"
      ],
      "text/plain": [
       "               _id domain_global_string_x  review_rating_x notes_x  \\\n",
       "0  academy58403947  APPAREL                5                NaN      \n",
       "1  adidas100338674  APPAREL                4                X        \n",
       "\n",
       "                                                                                                                                                                                                                                                                                                                           review_text_x  \\\n",
       "0  The shorts were excellent in color and style. My husband always elects if possible to purchase Adidas apparel. However, the shorts I ordered were medium, those received were medium, they seemed to be cut smaller. Rather than return them, I gave them to a friend. My husband went to the local Academy to purchase another pair.   \n",
       "1  Fab running shorts. Only thing I'd change is the key pocket. Wish it tucked in and closed.                                                                                                                                                                                                                                              \n",
       "\n",
       "        review_title_x use_sentiment_label_x  use_theme_exists_x  \\\n",
       "0  NaN                  NaN                   0                    \n",
       "1  Retro vibe running!  NaN                   0                    \n",
       "\n",
       "  fit_sentiment_label_x  fit_theme_exists_x value_sentiment_label_x  \\\n",
       "0  neg                   1                   NaN                      \n",
       "1  NaN                   0                   NaN                      \n",
       "\n",
       "   value_theme_exists_x style_sentiment_label_x  style_theme_exists_x  \\\n",
       "0  0                     pos                     1                      \n",
       "1  0                     pos                     1                      \n",
       "\n",
       "  quality_sentiment_label_x  quality_theme_exists_x domain_global_string_y  \\\n",
       "0  NaN                       0.0                     APPAREL                 \n",
       "1  neg                       1.0                     APPAREL                 \n",
       "\n",
       "   review_rating_y notes_y  \\\n",
       "0  5                NaN      \n",
       "1  4                X        \n",
       "\n",
       "                                                                                                                                                                                                                                                                                                                           review_text_y  \\\n",
       "0  The shorts were excellent in color and style. My husband always elects if possible to purchase Adidas apparel. However, the shorts I ordered were medium, those received were medium, they seemed to be cut smaller. Rather than return them, I gave them to a friend. My husband went to the local Academy to purchase another pair.   \n",
       "1  Fab running shorts. Only thing I'd change is the key pocket. Wish it tucked in and closed.                                                                                                                                                                                                                                              \n",
       "\n",
       "        review_title_y use_sentiment_label_y  use_theme_exists_y  \\\n",
       "0  NaN                  NaN                   0                    \n",
       "1  Retro vibe running!  NaN                   0                    \n",
       "\n",
       "  fit_sentiment_label_y  fit_theme_exists_y value_sentiment_label_y  \\\n",
       "0  neg                   1                   NaN                      \n",
       "1  NaN                   0                   NaN                      \n",
       "\n",
       "   value_theme_exists_y style_sentiment_label_y  style_theme_exists_y  \\\n",
       "0  0                     pos                     1                      \n",
       "1  0                     pos                     1                      \n",
       "\n",
       "  quality_sentiment_label_y  quality_theme_exists_y  \n",
       "0  NaN                       0.0                     \n",
       "1  neg                       1.0                     "
      ]
     },
     "execution_count": 48,
     "metadata": {},
     "output_type": "execute_result"
    }
   ],
   "source": [
    "df_merged.head(2)"
   ]
  },
  {
   "cell_type": "code",
   "execution_count": 49,
   "metadata": {},
   "outputs": [
    {
     "name": "stdout",
     "output_type": "stream",
     "text": [
      "<class 'pandas.core.frame.DataFrame'>\n",
      "Int64Index: 298 entries, 0 to 297\n",
      "Data columns (total 31 columns):\n",
      "_id                          298 non-null object\n",
      "domain_global_string_x       298 non-null object\n",
      "review_rating_x              298 non-null int64\n",
      "notes_x                      97 non-null object\n",
      "review_text_x                298 non-null object\n",
      "review_title_x               278 non-null object\n",
      "use_sentiment_label_x        110 non-null object\n",
      "use_theme_exists_x           298 non-null int64\n",
      "fit_sentiment_label_x        209 non-null object\n",
      "fit_theme_exists_x           298 non-null int64\n",
      "value_sentiment_label_x      101 non-null object\n",
      "value_theme_exists_x         298 non-null int64\n",
      "style_sentiment_label_x      120 non-null object\n",
      "style_theme_exists_x         298 non-null int64\n",
      "quality_sentiment_label_x    189 non-null object\n",
      "quality_theme_exists_x       297 non-null float64\n",
      "domain_global_string_y       298 non-null object\n",
      "review_rating_y              298 non-null int64\n",
      "notes_y                      97 non-null object\n",
      "review_text_y                298 non-null object\n",
      "review_title_y               278 non-null object\n",
      "use_sentiment_label_y        110 non-null object\n",
      "use_theme_exists_y           298 non-null int64\n",
      "fit_sentiment_label_y        202 non-null object\n",
      "fit_theme_exists_y           298 non-null int64\n",
      "value_sentiment_label_y      95 non-null object\n",
      "value_theme_exists_y         298 non-null int64\n",
      "style_sentiment_label_y      120 non-null object\n",
      "style_theme_exists_y         298 non-null int64\n",
      "quality_sentiment_label_y    185 non-null object\n",
      "quality_theme_exists_y       297 non-null float64\n",
      "dtypes: float64(2), int64(10), object(19)\n",
      "memory usage: 74.5+ KB\n"
     ]
    }
   ],
   "source": [
    "df_merged.info()"
   ]
  },
  {
   "cell_type": "markdown",
   "metadata": {},
   "source": [
    "The main problem with doing a SQL join like this, is it creates duplicate columns.  We would now have to fill in values that are missing in the x-suffixed columns with the y-suffixed columns, and vice-versa.  This can get tedious.  Since we know all the columns are the same, we can do a trick in Pandas to make things easier.\n",
    "\n",
    "First, let's check if all the ids align in df2 and df3.  If they are, we can simply 'patch' the missing values in. "
   ]
  },
  {
   "cell_type": "code",
   "execution_count": 51,
   "metadata": {},
   "outputs": [
    {
     "data": {
      "text/plain": [
       "array([ True,  True,  True,  True,  True,  True,  True,  True,  True,\n",
       "        True,  True,  True,  True,  True,  True,  True,  True,  True,\n",
       "        True,  True,  True,  True,  True,  True,  True,  True,  True,\n",
       "        True,  True,  True,  True,  True,  True,  True,  True,  True,\n",
       "        True,  True,  True,  True,  True,  True,  True,  True,  True,\n",
       "        True,  True,  True,  True,  True,  True,  True,  True,  True,\n",
       "        True,  True,  True,  True,  True,  True,  True,  True,  True,\n",
       "        True,  True,  True,  True,  True,  True,  True,  True,  True,\n",
       "        True,  True,  True,  True,  True,  True,  True,  True,  True,\n",
       "        True,  True,  True,  True,  True,  True,  True,  True,  True,\n",
       "        True,  True,  True,  True,  True,  True,  True,  True,  True,\n",
       "        True,  True,  True,  True,  True,  True,  True,  True,  True,\n",
       "        True,  True,  True,  True,  True,  True,  True,  True,  True,\n",
       "        True,  True,  True,  True,  True,  True,  True,  True,  True,\n",
       "        True,  True,  True,  True,  True,  True,  True,  True,  True,\n",
       "        True,  True,  True,  True,  True,  True,  True,  True,  True,\n",
       "        True,  True,  True,  True,  True,  True,  True,  True,  True,\n",
       "        True,  True,  True,  True,  True,  True,  True,  True,  True,\n",
       "        True,  True,  True,  True,  True,  True,  True,  True,  True,\n",
       "        True,  True,  True,  True,  True,  True,  True,  True,  True,\n",
       "        True,  True,  True,  True,  True,  True,  True,  True,  True,\n",
       "        True,  True,  True,  True,  True,  True,  True,  True,  True,\n",
       "        True,  True,  True,  True,  True,  True,  True,  True,  True,\n",
       "        True,  True,  True,  True,  True,  True,  True,  True,  True,\n",
       "        True,  True,  True,  True,  True,  True,  True,  True,  True,\n",
       "        True,  True,  True,  True,  True,  True,  True,  True,  True,\n",
       "        True,  True,  True,  True,  True,  True,  True,  True,  True,\n",
       "        True,  True,  True,  True,  True,  True,  True,  True,  True,\n",
       "        True,  True,  True,  True,  True,  True,  True,  True,  True,\n",
       "        True,  True,  True,  True,  True,  True,  True,  True,  True,\n",
       "        True,  True,  True,  True,  True,  True,  True,  True,  True,\n",
       "        True,  True,  True,  True,  True,  True,  True,  True,  True,\n",
       "        True,  True,  True,  True,  True,  True,  True,  True,  True,\n",
       "        True])"
      ]
     },
     "execution_count": 51,
     "metadata": {},
     "output_type": "execute_result"
    }
   ],
   "source": [
    "#Check to see if all the unique ids in df2 are the same in df3\n",
    "#Will throw an error if the values are not the same\n",
    "df3['_id'].unique() == df2['_id'].unique()"
   ]
  },
  {
   "cell_type": "code",
   "execution_count": 55,
   "metadata": {},
   "outputs": [],
   "source": [
    "#before patching, we need to make the _id columns \n",
    "#in df2 and df3 the index of their respective dataframes\n",
    "df2.set_index('_id', inplace=True)\n",
    "df3.set_index('_id', inplace=True)"
   ]
  },
  {
   "cell_type": "code",
   "execution_count": 56,
   "metadata": {},
   "outputs": [
    {
     "data": {
      "text/html": [
       "<div>\n",
       "<style scoped>\n",
       "    .dataframe tbody tr th:only-of-type {\n",
       "        vertical-align: middle;\n",
       "    }\n",
       "\n",
       "    .dataframe tbody tr th {\n",
       "        vertical-align: top;\n",
       "    }\n",
       "\n",
       "    .dataframe thead th {\n",
       "        text-align: right;\n",
       "    }\n",
       "</style>\n",
       "<table border=\"1\" class=\"dataframe\">\n",
       "  <thead>\n",
       "    <tr style=\"text-align: right;\">\n",
       "      <th></th>\n",
       "      <th>domain_global_string</th>\n",
       "      <th>review_rating</th>\n",
       "      <th>notes</th>\n",
       "      <th>review_text</th>\n",
       "      <th>review_title</th>\n",
       "      <th>use_sentiment_label</th>\n",
       "      <th>use_theme_exists</th>\n",
       "      <th>fit_sentiment_label</th>\n",
       "      <th>fit_theme_exists</th>\n",
       "      <th>value_sentiment_label</th>\n",
       "      <th>value_theme_exists</th>\n",
       "      <th>style_sentiment_label</th>\n",
       "      <th>style_theme_exists</th>\n",
       "      <th>quality_sentiment_label</th>\n",
       "      <th>quality_theme_exists</th>\n",
       "    </tr>\n",
       "    <tr>\n",
       "      <th>_id</th>\n",
       "      <th></th>\n",
       "      <th></th>\n",
       "      <th></th>\n",
       "      <th></th>\n",
       "      <th></th>\n",
       "      <th></th>\n",
       "      <th></th>\n",
       "      <th></th>\n",
       "      <th></th>\n",
       "      <th></th>\n",
       "      <th></th>\n",
       "      <th></th>\n",
       "      <th></th>\n",
       "      <th></th>\n",
       "      <th></th>\n",
       "    </tr>\n",
       "  </thead>\n",
       "  <tbody>\n",
       "    <tr>\n",
       "      <th>academy58403947</th>\n",
       "      <td>APPAREL</td>\n",
       "      <td>5</td>\n",
       "      <td>NaN</td>\n",
       "      <td>The shorts were excellent in color and style. My husband always elects if possible to purchase Adidas apparel. However, the shorts I ordered were medium, those received were medium, they seemed to be cut smaller. Rather than return them, I gave them to a friend. My husband went to the local Academy to purchase another pair.</td>\n",
       "      <td>NaN</td>\n",
       "      <td>NaN</td>\n",
       "      <td>0</td>\n",
       "      <td>neg</td>\n",
       "      <td>1</td>\n",
       "      <td>NaN</td>\n",
       "      <td>0</td>\n",
       "      <td>pos</td>\n",
       "      <td>1</td>\n",
       "      <td>NaN</td>\n",
       "      <td>0.0</td>\n",
       "    </tr>\n",
       "  </tbody>\n",
       "</table>\n",
       "</div>"
      ],
      "text/plain": [
       "                domain_global_string  review_rating notes  \\\n",
       "_id                                                         \n",
       "academy58403947  APPAREL              5              NaN    \n",
       "\n",
       "                                                                                                                                                                                                                                                                                                                                           review_text  \\\n",
       "_id                                                                                                                                                                                                                                                                                                                                                      \n",
       "academy58403947  The shorts were excellent in color and style. My husband always elects if possible to purchase Adidas apparel. However, the shorts I ordered were medium, those received were medium, they seemed to be cut smaller. Rather than return them, I gave them to a friend. My husband went to the local Academy to purchase another pair.   \n",
       "\n",
       "                review_title use_sentiment_label  use_theme_exists  \\\n",
       "_id                                                                  \n",
       "academy58403947  NaN          NaN                 0                  \n",
       "\n",
       "                fit_sentiment_label  fit_theme_exists value_sentiment_label  \\\n",
       "_id                                                                           \n",
       "academy58403947  neg                 1                 NaN                    \n",
       "\n",
       "                 value_theme_exists style_sentiment_label  style_theme_exists  \\\n",
       "_id                                                                             \n",
       "academy58403947  0                   pos                   1                    \n",
       "\n",
       "                quality_sentiment_label  quality_theme_exists  \n",
       "_id                                                            \n",
       "academy58403947  NaN                     0.0                   "
      ]
     },
     "execution_count": 56,
     "metadata": {},
     "output_type": "execute_result"
    }
   ],
   "source": [
    "#check that the index is now _id\n",
    "df2.head(1)"
   ]
  },
  {
   "cell_type": "code",
   "execution_count": 66,
   "metadata": {
    "collapsed": true
   },
   "outputs": [],
   "source": [
    "#First patching in values in df2 not present in df3\n",
    "patch_df2_into_df3 = df3.combine_first(df2)\n",
    "#Patching in values from df3 into df2 incase we missed anything, this may be redundant step\n",
    "patched_df = patch_df2_into_df3.combine_first(df2)"
   ]
  },
  {
   "cell_type": "code",
   "execution_count": 67,
   "metadata": {},
   "outputs": [
    {
     "name": "stdout",
     "output_type": "stream",
     "text": [
      "<class 'pandas.core.frame.DataFrame'>\n",
      "Index: 298 entries, academy58403947 to zappos5389083\n",
      "Data columns (total 15 columns):\n",
      "domain_global_string       298 non-null object\n",
      "review_rating              298 non-null int64\n",
      "notes                      97 non-null object\n",
      "review_text                298 non-null object\n",
      "review_title               278 non-null object\n",
      "use_sentiment_label        110 non-null object\n",
      "use_theme_exists           298 non-null int64\n",
      "fit_sentiment_label        209 non-null object\n",
      "fit_theme_exists           298 non-null int64\n",
      "value_sentiment_label      101 non-null object\n",
      "value_theme_exists         298 non-null int64\n",
      "style_sentiment_label      120 non-null object\n",
      "style_theme_exists         298 non-null int64\n",
      "quality_sentiment_label    189 non-null object\n",
      "quality_theme_exists       297 non-null float64\n",
      "dtypes: float64(1), int64(5), object(9)\n",
      "memory usage: 37.2+ KB\n"
     ]
    }
   ],
   "source": [
    "patched_df.info()"
   ]
  },
  {
   "cell_type": "markdown",
   "metadata": {},
   "source": [
    "Now we need to add in any data from df1.  It is missing the notes column. So we will add a notes a column with Nan values as default to match."
   ]
  },
  {
   "cell_type": "code",
   "execution_count": 78,
   "metadata": {},
   "outputs": [],
   "source": [
    "df1['notes'] = np.nan"
   ]
  },
  {
   "cell_type": "code",
   "execution_count": 79,
   "metadata": {},
   "outputs": [
    {
     "data": {
      "text/html": [
       "<div>\n",
       "<style scoped>\n",
       "    .dataframe tbody tr th:only-of-type {\n",
       "        vertical-align: middle;\n",
       "    }\n",
       "\n",
       "    .dataframe tbody tr th {\n",
       "        vertical-align: top;\n",
       "    }\n",
       "\n",
       "    .dataframe thead th {\n",
       "        text-align: right;\n",
       "    }\n",
       "</style>\n",
       "<table border=\"1\" class=\"dataframe\">\n",
       "  <thead>\n",
       "    <tr style=\"text-align: right;\">\n",
       "      <th></th>\n",
       "      <th>_id</th>\n",
       "      <th>domain_global_string</th>\n",
       "      <th>review_rating</th>\n",
       "      <th>review_text</th>\n",
       "      <th>review_title</th>\n",
       "      <th>use_sentiment_label</th>\n",
       "      <th>use_theme_exists</th>\n",
       "      <th>fit_sentiment_label</th>\n",
       "      <th>fit_theme_exists</th>\n",
       "      <th>value_sentiment_label</th>\n",
       "      <th>value_theme_exists</th>\n",
       "      <th>style_sentiment_label</th>\n",
       "      <th>style_theme_exists</th>\n",
       "      <th>quality_sentiment_label</th>\n",
       "      <th>quality_theme_exists</th>\n",
       "      <th>notes</th>\n",
       "    </tr>\n",
       "  </thead>\n",
       "  <tbody>\n",
       "    <tr>\n",
       "      <th>0</th>\n",
       "      <td>academy58403947</td>\n",
       "      <td>APPAREL</td>\n",
       "      <td>5</td>\n",
       "      <td>The shorts were excellent in color and style. My husband always elects if possible to purchase Adidas apparel. However, the shorts I ordered were medium, those received were medium, they seemed to be cut smaller. Rather than return them, I gave them to a friend. My husband went to the local Academy to purchase another pair.</td>\n",
       "      <td>NaN</td>\n",
       "      <td>NaN</td>\n",
       "      <td>NaN</td>\n",
       "      <td>NaN</td>\n",
       "      <td>NaN</td>\n",
       "      <td>pos</td>\n",
       "      <td>1.0</td>\n",
       "      <td>pos</td>\n",
       "      <td>1.0</td>\n",
       "      <td>NaN</td>\n",
       "      <td>NaN</td>\n",
       "      <td>NaN</td>\n",
       "    </tr>\n",
       "  </tbody>\n",
       "</table>\n",
       "</div>"
      ],
      "text/plain": [
       "               _id domain_global_string  review_rating  \\\n",
       "0  academy58403947  APPAREL              5               \n",
       "\n",
       "                                                                                                                                                                                                                                                                                                                             review_text  \\\n",
       "0  The shorts were excellent in color and style. My husband always elects if possible to purchase Adidas apparel. However, the shorts I ordered were medium, those received were medium, they seemed to be cut smaller. Rather than return them, I gave them to a friend. My husband went to the local Academy to purchase another pair.   \n",
       "\n",
       "  review_title use_sentiment_label  use_theme_exists fit_sentiment_label  \\\n",
       "0  NaN          NaN                NaN                NaN                  \n",
       "\n",
       "   fit_theme_exists value_sentiment_label  value_theme_exists  \\\n",
       "0 NaN                pos                   1.0                  \n",
       "\n",
       "  style_sentiment_label  style_theme_exists quality_sentiment_label  \\\n",
       "0  pos                   1.0                 NaN                      \n",
       "\n",
       "   quality_theme_exists  notes  \n",
       "0 NaN                   NaN     "
      ]
     },
     "execution_count": 79,
     "metadata": {},
     "output_type": "execute_result"
    }
   ],
   "source": [
    "df1.head(1)"
   ]
  },
  {
   "cell_type": "code",
   "execution_count": 80,
   "metadata": {
    "collapsed": true
   },
   "outputs": [],
   "source": [
    "#reset the index of df1\n",
    "df1.set_index('_id', inplace=True)"
   ]
  },
  {
   "cell_type": "code",
   "execution_count": 81,
   "metadata": {
    "collapsed": true
   },
   "outputs": [],
   "source": [
    "#Patch in any values from df1 not present in df2 or df3\n",
    "patched_with_df1 = patched_df.combine_first(df1)"
   ]
  },
  {
   "cell_type": "code",
   "execution_count": 82,
   "metadata": {
    "scrolled": true
   },
   "outputs": [
    {
     "name": "stdout",
     "output_type": "stream",
     "text": [
      "<class 'pandas.core.frame.DataFrame'>\n",
      "Index: 300 entries, academy58403947 to zappos5389083\n",
      "Data columns (total 15 columns):\n",
      "domain_global_string       300 non-null object\n",
      "fit_sentiment_label        237 non-null object\n",
      "fit_theme_exists           300 non-null float64\n",
      "notes                      97 non-null object\n",
      "quality_sentiment_label    229 non-null object\n",
      "quality_theme_exists       300 non-null float64\n",
      "review_rating              300 non-null float64\n",
      "review_text                300 non-null object\n",
      "review_title               278 non-null object\n",
      "style_sentiment_label      202 non-null object\n",
      "style_theme_exists         299 non-null float64\n",
      "use_sentiment_label        160 non-null object\n",
      "use_theme_exists           299 non-null float64\n",
      "value_sentiment_label      122 non-null object\n",
      "value_theme_exists         299 non-null float64\n",
      "dtypes: float64(6), object(9)\n",
      "memory usage: 37.5+ KB\n"
     ]
    }
   ],
   "source": [
    "patched_with_df1.info()"
   ]
  },
  {
   "cell_type": "markdown",
   "metadata": {},
   "source": [
    "We now have the most complete dataframe from combining the data in df1, df2, and df3."
   ]
  },
  {
   "cell_type": "code",
   "execution_count": 90,
   "metadata": {},
   "outputs": [],
   "source": [
    "#Reset the indexes back inplace\n",
    "df1.reset_index(inplace=True)\n",
    "df2.reset_index(inplace=True)\n",
    "df3.reset_index(inplace=True)"
   ]
  },
  {
   "cell_type": "code",
   "execution_count": 110,
   "metadata": {},
   "outputs": [],
   "source": [
    "#Find the two ids that were in df1 but not in df2 or df3\n",
    "#Pick either df2 or df3, we saw from earlier they contain the same ids\n",
    "ids = []\n",
    "for id1 in list(df1._id):\n",
    "    if id1 not in list(df2._id):\n",
    "        ids.append(id1)"
   ]
  },
  {
   "cell_type": "code",
   "execution_count": 111,
   "metadata": {},
   "outputs": [
    {
     "data": {
      "text/plain": [
       "['walmart79904828', 'zappos5307009']"
      ]
     },
     "execution_count": 111,
     "metadata": {},
     "output_type": "execute_result"
    }
   ],
   "source": [
    "#The two ids\n",
    "ids"
   ]
  },
  {
   "cell_type": "code",
   "execution_count": 105,
   "metadata": {
    "collapsed": true
   },
   "outputs": [],
   "source": [
    "#reset the index in the patched \n",
    "patched_with_df1.reset_index(inplace=True)"
   ]
  },
  {
   "cell_type": "code",
   "execution_count": 112,
   "metadata": {},
   "outputs": [
    {
     "data": {
      "text/html": [
       "<div>\n",
       "<style scoped>\n",
       "    .dataframe tbody tr th:only-of-type {\n",
       "        vertical-align: middle;\n",
       "    }\n",
       "\n",
       "    .dataframe tbody tr th {\n",
       "        vertical-align: top;\n",
       "    }\n",
       "\n",
       "    .dataframe thead th {\n",
       "        text-align: right;\n",
       "    }\n",
       "</style>\n",
       "<table border=\"1\" class=\"dataframe\">\n",
       "  <thead>\n",
       "    <tr style=\"text-align: right;\">\n",
       "      <th></th>\n",
       "      <th>_id</th>\n",
       "      <th>domain_global_string</th>\n",
       "      <th>fit_sentiment_label</th>\n",
       "      <th>fit_theme_exists</th>\n",
       "      <th>notes</th>\n",
       "      <th>quality_sentiment_label</th>\n",
       "      <th>quality_theme_exists</th>\n",
       "      <th>review_rating</th>\n",
       "      <th>review_text</th>\n",
       "      <th>review_title</th>\n",
       "      <th>style_sentiment_label</th>\n",
       "      <th>style_theme_exists</th>\n",
       "      <th>use_sentiment_label</th>\n",
       "      <th>use_theme_exists</th>\n",
       "      <th>value_sentiment_label</th>\n",
       "      <th>value_theme_exists</th>\n",
       "    </tr>\n",
       "  </thead>\n",
       "  <tbody>\n",
       "    <tr>\n",
       "      <th>287</th>\n",
       "      <td>walmart79904828</td>\n",
       "      <td>APPAREL</td>\n",
       "      <td>pos</td>\n",
       "      <td>1.0</td>\n",
       "      <td>NaN</td>\n",
       "      <td>NaN</td>\n",
       "      <td>1.0</td>\n",
       "      <td>5.0</td>\n",
       "      <td>We have tried this product for the last week and have been so pleased. There are very absorbent and durable. My child seems to be comfortable and have a restful sleep wearing them. We are very happy with this product.</td>\n",
       "      <td>NaN</td>\n",
       "      <td>NaN</td>\n",
       "      <td>NaN</td>\n",
       "      <td>NaN</td>\n",
       "      <td>NaN</td>\n",
       "      <td>NaN</td>\n",
       "      <td>NaN</td>\n",
       "    </tr>\n",
       "  </tbody>\n",
       "</table>\n",
       "</div>"
      ],
      "text/plain": [
       "                 _id domain_global_string fit_sentiment_label  \\\n",
       "287  walmart79904828  APPAREL              pos                  \n",
       "\n",
       "     fit_theme_exists notes quality_sentiment_label  quality_theme_exists  \\\n",
       "287  1.0               NaN   NaN                     1.0                    \n",
       "\n",
       "     review_rating  \\\n",
       "287  5.0             \n",
       "\n",
       "                                                                                                                                                                                                                   review_text  \\\n",
       "287  We have tried this product for the last week and have been so pleased. There are very absorbent and durable. My child seems to be comfortable and have a restful sleep wearing them. We are very happy with this product.   \n",
       "\n",
       "    review_title style_sentiment_label  style_theme_exists  \\\n",
       "287  NaN          NaN                  NaN                   \n",
       "\n",
       "    use_sentiment_label  use_theme_exists value_sentiment_label  \\\n",
       "287  NaN                NaN                NaN                    \n",
       "\n",
       "     value_theme_exists  \n",
       "287 NaN                  "
      ]
     },
     "execution_count": 112,
     "metadata": {},
     "output_type": "execute_result"
    }
   ],
   "source": [
    "#Look at the two ids not present in df2 and df3\n",
    "patched_with_df1[patched_with_df1['_id'] == 'walmart79904828']"
   ]
  },
  {
   "cell_type": "code",
   "execution_count": 113,
   "metadata": {},
   "outputs": [
    {
     "data": {
      "text/html": [
       "<div>\n",
       "<style scoped>\n",
       "    .dataframe tbody tr th:only-of-type {\n",
       "        vertical-align: middle;\n",
       "    }\n",
       "\n",
       "    .dataframe tbody tr th {\n",
       "        vertical-align: top;\n",
       "    }\n",
       "\n",
       "    .dataframe thead th {\n",
       "        text-align: right;\n",
       "    }\n",
       "</style>\n",
       "<table border=\"1\" class=\"dataframe\">\n",
       "  <thead>\n",
       "    <tr style=\"text-align: right;\">\n",
       "      <th></th>\n",
       "      <th>_id</th>\n",
       "      <th>domain_global_string</th>\n",
       "      <th>fit_sentiment_label</th>\n",
       "      <th>fit_theme_exists</th>\n",
       "      <th>notes</th>\n",
       "      <th>quality_sentiment_label</th>\n",
       "      <th>quality_theme_exists</th>\n",
       "      <th>review_rating</th>\n",
       "      <th>review_text</th>\n",
       "      <th>review_title</th>\n",
       "      <th>style_sentiment_label</th>\n",
       "      <th>style_theme_exists</th>\n",
       "      <th>use_sentiment_label</th>\n",
       "      <th>use_theme_exists</th>\n",
       "      <th>value_sentiment_label</th>\n",
       "      <th>value_theme_exists</th>\n",
       "    </tr>\n",
       "  </thead>\n",
       "  <tbody>\n",
       "    <tr>\n",
       "      <th>297</th>\n",
       "      <td>zappos5307009</td>\n",
       "      <td>APPAREL</td>\n",
       "      <td>pos</td>\n",
       "      <td>1.0</td>\n",
       "      <td>NaN</td>\n",
       "      <td>pos</td>\n",
       "      <td>1.0</td>\n",
       "      <td>5.0</td>\n",
       "      <td>I was traveling through Seoul, South Korea when my wife had asked me to pick up a few things for her.  On the last day, I was there, I went shopping.  After picking everything up, I knew that I was going to require another bag. I was on the phone with my wife describing everything that I got for her to make sure there was nothing else needed when I told her I needed to purchase a cheap bag to get them home.  As I walked over to the department store side, there was a Timbuk2 area. I quickly Googled if this was a legitimate store to buy from (to ensure there were no warranty issues, which they were), walked over to see what products they had on hand, and there was the 22\" Black-Nylon (medium size) Co-Pilot Luggage Roller.  After thoroughly checking the luggage, I also noticed it was on sale for 30% off.  Buying an American name brand item overseas I knew the prices were higher than usual, but with the 30% discount, I was able to purchase the Carry-On for $10 less than the website stated. The Black-nylon 22\" Co-Pilot is an incredible carry-on for anyone that travels a lot. Typically, I travel for only a few days at a time.  The construction is solid, and I love the ability to grab it from all sides due to the handles located everywhere.  Another excellent function that I have already used is the ability to access one side of the clamshell without opening the entire bag. The top zipper is nice to hold my toiletries and water bottle with no problem.  Since I have the Command Messenger bag also, having the ability to slip it on the handlebar of the luggage is a major plus in my book.  I am quite stylish with matching pieces (at least that is what I think as I tote around the airport).  Another nice feature is the laptop pocket, which fits my laptop perfectly. For domestic or international flights, this bag will always be used. I am super happy with the Co-Pilot. The only thing I am worried about is if something does happen to it, many warranty complaints are found.</td>\n",
       "      <td>NaN</td>\n",
       "      <td>pos</td>\n",
       "      <td>1.0</td>\n",
       "      <td>NaN</td>\n",
       "      <td>1.0</td>\n",
       "      <td>neg</td>\n",
       "      <td>1.0</td>\n",
       "    </tr>\n",
       "  </tbody>\n",
       "</table>\n",
       "</div>"
      ],
      "text/plain": [
       "               _id domain_global_string fit_sentiment_label  fit_theme_exists  \\\n",
       "297  zappos5307009  APPAREL              pos                 1.0                \n",
       "\n",
       "    notes quality_sentiment_label  quality_theme_exists  review_rating  \\\n",
       "297  NaN   pos                     1.0                   5.0             \n",
       "\n",
       "                                                                                                                                                                                                                                                                                                                                                                                                                                                                                                                                                                                                                                                                                                                                                                                                                                                                                                                                                                                                                                                                                                                                                                                                                                                                                                                                                                                                                                                                                                                                                                                                                                                                                                                                                                                                                                                                                                                                                                                                                                                                   review_text  \\\n",
       "297  I was traveling through Seoul, South Korea when my wife had asked me to pick up a few things for her.  On the last day, I was there, I went shopping.  After picking everything up, I knew that I was going to require another bag. I was on the phone with my wife describing everything that I got for her to make sure there was nothing else needed when I told her I needed to purchase a cheap bag to get them home.  As I walked over to the department store side, there was a Timbuk2 area. I quickly Googled if this was a legitimate store to buy from (to ensure there were no warranty issues, which they were), walked over to see what products they had on hand, and there was the 22\" Black-Nylon (medium size) Co-Pilot Luggage Roller.  After thoroughly checking the luggage, I also noticed it was on sale for 30% off.  Buying an American name brand item overseas I knew the prices were higher than usual, but with the 30% discount, I was able to purchase the Carry-On for $10 less than the website stated. The Black-nylon 22\" Co-Pilot is an incredible carry-on for anyone that travels a lot. Typically, I travel for only a few days at a time.  The construction is solid, and I love the ability to grab it from all sides due to the handles located everywhere.  Another excellent function that I have already used is the ability to access one side of the clamshell without opening the entire bag. The top zipper is nice to hold my toiletries and water bottle with no problem.  Since I have the Command Messenger bag also, having the ability to slip it on the handlebar of the luggage is a major plus in my book.  I am quite stylish with matching pieces (at least that is what I think as I tote around the airport).  Another nice feature is the laptop pocket, which fits my laptop perfectly. For domestic or international flights, this bag will always be used. I am super happy with the Co-Pilot. The only thing I am worried about is if something does happen to it, many warranty complaints are found.   \n",
       "\n",
       "    review_title style_sentiment_label  style_theme_exists  \\\n",
       "297  NaN          pos                   1.0                  \n",
       "\n",
       "    use_sentiment_label  use_theme_exists value_sentiment_label  \\\n",
       "297  NaN                 1.0               neg                    \n",
       "\n",
       "     value_theme_exists  \n",
       "297  1.0                 "
      ]
     },
     "execution_count": 113,
     "metadata": {},
     "output_type": "execute_result"
    }
   ],
   "source": [
    "patched_with_df1[patched_with_df1['_id'] == 'zappos5307009']"
   ]
  },
  {
   "cell_type": "markdown",
   "metadata": {},
   "source": [
    "As you can see, patching in the values added the 2 ids not in df2 or df3."
   ]
  },
  {
   "cell_type": "code",
   "execution_count": 115,
   "metadata": {},
   "outputs": [
    {
     "data": {
      "text/plain": [
       "300"
      ]
     },
     "execution_count": 115,
     "metadata": {},
     "output_type": "execute_result"
    }
   ],
   "source": [
    "#Check unique ids just to be sure we got all 300\n",
    "patched_with_df1._id.nunique()"
   ]
  },
  {
   "cell_type": "code",
   "execution_count": 117,
   "metadata": {},
   "outputs": [],
   "source": [
    "#save the wrangled data to a csv file for later use.  Check to see if more cleaning needs to be done.\n",
    "\n",
    "#patched_with_df1.to_csv('merged_data.csv', index=False)"
   ]
  },
  {
   "cell_type": "markdown",
   "metadata": {},
   "source": [
    "## Examine Distinct_Brands.txt"
   ]
  },
  {
   "cell_type": "code",
   "execution_count": 136,
   "metadata": {},
   "outputs": [],
   "source": [
    "#read in text file, there are some latin characters in there, make sure to set encoding\n",
    "with open('C:\\\\Users\\\\jltsa\\\\Desktop\\\\hearful\\\\Distinct_Brands.txt', encoding='latin-1', mode='r') as file:\n",
    "    brands = file.read()"
   ]
  },
  {
   "cell_type": "code",
   "execution_count": 157,
   "metadata": {
    "collapsed": true
   },
   "outputs": [],
   "source": [
    "#use regular expressions to help clean the text file\n",
    "import re"
   ]
  },
  {
   "cell_type": "code",
   "execution_count": 214,
   "metadata": {},
   "outputs": [],
   "source": [
    "#list comprehension\n",
    "#replace the '\"' with nothing, strip white space\n",
    "#removing the characters \\,/(), {}, <> seems ok, \n",
    "#other characters might be included in brand names\n",
    "names = [re.sub('[\\\\\\(){}<>/|]', '', x.replace('\"', '').strip()) for x in brands.split(',')]"
   ]
  },
  {
   "cell_type": "code",
   "execution_count": null,
   "metadata": {
    "collapsed": true
   },
   "outputs": [],
   "source": [
    "names[0] = \"'47\""
   ]
  },
  {
   "cell_type": "markdown",
   "metadata": {},
   "source": [
    "The first value was difficult to parse, so value was manually replaced with \"'47\"."
   ]
  },
  {
   "cell_type": "code",
   "execution_count": 223,
   "metadata": {},
   "outputs": [
    {
     "data": {
      "text/plain": [
       "[\"'47\",\n",
       " 'zunie',\n",
       " 'zunammy',\n",
       " 'zubaz',\n",
       " 'zoozatz',\n",
       " 'zoo york',\n",
       " 'zoinx',\n",
       " 'zipway',\n",
       " 'zigo soho',\n",
       " 'zibu']"
      ]
     },
     "execution_count": 223,
     "metadata": {},
     "output_type": "execute_result"
    }
   ],
   "source": [
    "#preview first few names in the list\n",
    "#Coulld pickle the later use\n",
    "names[:10]"
   ]
  },
  {
   "cell_type": "markdown",
   "metadata": {},
   "source": [
    "## Examine Missing Values"
   ]
  },
  {
   "cell_type": "code",
   "execution_count": 118,
   "metadata": {
    "collapsed": true
   },
   "outputs": [],
   "source": [
    "#Python package that lets us visualize missing data\n",
    "import missingno as msno"
   ]
  },
  {
   "cell_type": "code",
   "execution_count": 119,
   "metadata": {},
   "outputs": [
    {
     "data": {
      "text/plain": [
       "<matplotlib.axes._subplots.AxesSubplot at 0x25b88cee908>"
      ]
     },
     "execution_count": 119,
     "metadata": {},
     "output_type": "execute_result"
    },
    {
     "data": {
      "image/png": "[encoded data removed]",
      "text/plain": [
       "<Figure size 1800x720 with 2 Axes>"
      ]
     },
     "metadata": {},
     "output_type": "display_data"
    }
   ],
   "source": [
    "#White areas represent where there is missing data relative to the dataframe\n",
    "msno.matrix(patched_with_df1)"
   ]
  },
  {
   "cell_type": "code",
   "execution_count": 123,
   "metadata": {},
   "outputs": [
    {
     "data": {
      "text/plain": [
       "<matplotlib.axes._subplots.AxesSubplot at 0x25b897115c0>"
      ]
     },
     "execution_count": 123,
     "metadata": {},
     "output_type": "execute_result"
    },
    {
     "data": {
      "image/png": "[encoded data removed]",
      "text/plain": [
       "<Figure size 1728x720 with 3 Axes>"
      ]
     },
     "metadata": {},
     "output_type": "display_data"
    }
   ],
   "source": [
    "#Barchart of present values\n",
    "msno.bar(patched_with_df1)"
   ]
  },
  {
   "cell_type": "code",
   "execution_count": null,
   "metadata": {
    "collapsed": true
   },
   "outputs": [],
   "source": []
  },
  {
   "cell_type": "code",
   "execution_count": null,
   "metadata": {
    "collapsed": true
   },
   "outputs": [],
   "source": []
  }
 ],
 "metadata": {
  "kernelspec": {
   "display_name": "Python 3",
   "language": "python",
   "name": "python3"
  },
  "language_info": {
   "codemirror_mode": {
    "name": "ipython",
    "version": 3
   },
   "file_extension": ".py",
   "mimetype": "text/x-python",
   "name": "python",
   "nbconvert_exporter": "python",
   "pygments_lexer": "ipython3",
   "version": "3.6.3"
  }
 },
 "nbformat": 4,
 "nbformat_minor": 2
}
