{
 "cells": [
  {
   "cell_type": "markdown",
   "metadata": {},
   "source": [
    "# Task 1"
   ]
  },
  {
   "cell_type": "markdown",
   "metadata": {},
   "source": [
    "This assignment deals with identifying and cleaning product brand strings from raw data obtained from the source website.\n",
    "\n",
    "When data is obtained (scraped) from a source website, the brand string seen on the web page of a particular product may be written in a multitude of different ways. Some brands may be more complicated to identify than others depending on the variety of ways their products are presented by source websites.\n",
    "\n",
    "In this task, you will be looking for brand strings that associate with the brand Ralph Lauren in a raw data file called “Distinct_Brands.txt”.\n",
    "\n",
    "Download the file and take some time to analyze the various ways the Ralph Lauren brand may be scraped directly from the page. Some examples are below:\n",
    "\n",
    "ralph lauren\n",
    "RalphLauren\n",
    "ralph-lauren\n",
    "Polo Ralph Lauren\n",
    "Polo-Ralph-Lauren\n",
    "Polo Raulph\n",
    "Polo Ralph Lauren Woven Stripe Pajama Pants\n",
    "\n",
    "There are many other strings in this file identifying products with the brand Ralph Lauren. The above list is just a small subset of those strings to give you an idea.\n",
    "\n",
    "Your task is to study the raw file and use your best judgement to identify all the strings that are affiliated with the brand Ralph Lauren. Subsequently, write a Python script that reads in the “Distinct_Brands.txt” file, applies an approach to identify all the Ralph Laurent related strings and outputs those strings to another file. Please commit both your code and the output file containing the strings you identified to the GitHub repository.\n"
   ]
  },
  {
   "cell_type": "code",
   "execution_count": 1,
   "metadata": {
    "collapsed": true
   },
   "outputs": [],
   "source": [
    "#import Python Packages\n",
    "import re\n",
    "import pandas as pd"
   ]
  },
  {
   "cell_type": "code",
   "execution_count": 2,
   "metadata": {
    "collapsed": true
   },
   "outputs": [],
   "source": [
    "#read in text file, there are some latin characters in there, make sure to set encoding\n",
    "with open('C:\\\\Users\\\\jltsa\\\\Desktop\\\\hearful\\\\Data\\\\Distinct_Brands.txt', encoding='latin-1', mode='r') as file:\n",
    "    brands = file.read()"
   ]
  },
  {
   "cell_type": "code",
   "execution_count": 3,
   "metadata": {
    "collapsed": true
   },
   "outputs": [],
   "source": [
    "#list comprehension\n",
    "#replace the '\"' with nothing, strip white space\n",
    "#removing the characters \\,/(), {}, <> seems ok, \n",
    "#other characters might be included in brand names\n",
    "names = [re.sub('[\\\\\\(){}<>/|]', '', x.replace('\"', '').strip()) for x in brands.split(',')]"
   ]
  },
  {
   "cell_type": "markdown",
   "metadata": {},
   "source": [
    "After some exploration of the file there are no mispellings for:\n",
    "\n",
    "'ralf'\n",
    "\n",
    "'raulf'\n",
    "\n",
    "'lawren'\n",
    "\n",
    "'rlph'\n",
    "\n",
    "'ralh'\n",
    "\n",
    "MISPELLINGS:\n",
    "\n",
    "'raulph'"
   ]
  },
  {
   "cell_type": "markdown",
   "metadata": {},
   "source": [
    "For the regular expression to find associations with Ralph Lauren we want to ignore what case the letters are in.  Therefore, we specify the argument re.IGNORECASE.  I want to find any cases where there might be typos for extra letters.  So after every character we specify in the regular expression that we want to find one or more.  I searched the doc by opening the file in a text editor to look at possible misspellings.  There was one that I saw 'Raulph' and the letter 'u' is an optional character in the regular expression.  Also, we need to account for optional white spaces and and non alpha characters between Ralph and Lauren."
   ]
  },
  {
   "cell_type": "code",
   "execution_count": 55,
   "metadata": {},
   "outputs": [],
   "source": [
    "rl = []\n",
    "regex = re.compile(r'(r+a+u*l+p+h+)\\s*\\W*(l+a+u+r+e+n+)', re.IGNORECASE)\n",
    "\n",
    "for text in names:\n",
    "    if re.search(regex, text):\n",
    "        rl.append(text)\n"
   ]
  },
  {
   "cell_type": "code",
   "execution_count": 56,
   "metadata": {},
   "outputs": [
    {
     "name": "stdout",
     "output_type": "stream",
     "text": [
      "Found: 2241 strings associated with Ralph Lauren\n"
     ]
    }
   ],
   "source": [
    "print('Found: '+ str(len(rl)) + ' strings associated with Ralph Lauren')"
   ]
  },
  {
   "cell_type": "code",
   "execution_count": 49,
   "metadata": {},
   "outputs": [],
   "source": [
    "# Cast to Pandas Series\n",
    "rl_ser = pd.DataFrame(rl)"
   ]
  },
  {
   "cell_type": "code",
   "execution_count": 52,
   "metadata": {},
   "outputs": [],
   "source": [
    "# Save file as .csv\n",
    "# If needed as a list, can also use pickle\n",
    "rl_ser.to_csv('rl_strings.csv', index=False)"
   ]
  },
  {
   "cell_type": "markdown",
   "metadata": {},
   "source": [
    "A Python script named rl_strings.py exists in the Task_1 directory.\n",
    "\n",
    "To run the script.  Open command line and path into the directory containing the rl_strings.py script. \n",
    "\n",
    "Then type 'python rl_strings.py Distinct_Brands.txt rl_strings.csv' in the command line.\n",
    "\n",
    "You can run this notebook as well to also create the .csv file."
   ]
  },
  {
   "cell_type": "code",
   "execution_count": null,
   "metadata": {
    "collapsed": true
   },
   "outputs": [],
   "source": []
  }
 ],
 "metadata": {
  "kernelspec": {
   "display_name": "Python 3",
   "language": "python",
   "name": "python3"
  },
  "language_info": {
   "codemirror_mode": {
    "name": "ipython",
    "version": 3
   },
   "file_extension": ".py",
   "mimetype": "text/x-python",
   "name": "python",
   "nbconvert_exporter": "python",
   "pygments_lexer": "ipython3",
   "version": "3.6.3"
  }
 },
 "nbformat": 4,
 "nbformat_minor": 2
}
