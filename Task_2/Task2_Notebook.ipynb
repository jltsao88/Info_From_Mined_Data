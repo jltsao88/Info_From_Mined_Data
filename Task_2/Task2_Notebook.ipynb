{
 "cells": [
  {
   "cell_type": "markdown",
   "metadata": {},
   "source": [
    "# Task 2"
   ]
  },
  {
   "cell_type": "markdown",
   "metadata": {},
   "source": [
    "This assignment deals with analyzing Hearful predictive model output and results.\n",
    "\n",
    "Hearful uses rule-based models to predict the presence of specific themes in customer product reviews. These models are domain specific and look for a discrete set of themes depending on the product domain. For example, reviews on products from the fashion domain are analyzed for the presence of the following themes: fit, quality, style, use, and value. A given review text may contain zero or more themes.\n",
    "\n",
    "Hearful also leverages sentiment models to identify the sentiment of a comment that mentions a specific theme. For example, if the product review mentions theme fit, it will also identify if theme fit was mentioned positively or negatively by the author. If a model identifies the presence of a theme within the review, it will also assign a sentiment to the given theme. Sentiment values are assigned to each theme independently. Therefore, a given review may have positive sentiment for one theme, but negative sentiment for another. \n",
    "\n",
    "In this task, you will analyse the file APPAREL_ids_1_2019.csv which represents sample output of one of Hearful’s models for the fashion domain. The contents of the file represent model predictions for 300 customer reviews. If a specific theme is identified to be present by the model, a 1 is placed in the associated theme column. Subsequently, the theme sentiment is assigned as pos or neg for positive or negative respectively in neighboring columns.\n",
    "\n",
    "Your task is to study the provided file to understand the structure of the data and anything unusual that you may note about this data. Subsequently, you will write a Python script to read in the provided file and analyze the number of reviews for each theme and within each theme, how many reviews were positive and how many were negative. In your analysis, you may run across data points that seem unusual or improperly represented. You may drop some data points in your analysis provided you supply logic for your decision.\n",
    "\n",
    "Please commit any code you write and the output of any analysis to the GitHub repository.\n"
   ]
  },
  {
   "cell_type": "code",
   "execution_count": 190,
   "metadata": {},
   "outputs": [],
   "source": [
    "import numpy as np\n",
    "import pandas as pd\n",
    "import matplotlib.pyplot as plt\n",
    "import seaborn as sn\n",
    "import warnings\n",
    "\n",
    "#Enable plots in jupyter notebook\n",
    "%matplotlib inline\n",
    "#Display full columns in pandas dataframes\n",
    "pd.set_option(\"display.max_columns\", None)\n",
    "pd.set_option(\"display.max_colwidth\", 150)\n",
    "pd.set_option('display.width', 1000)\n",
    "#hide warning messages for cleaner looking notebook\n",
    "warnings.filterwarnings('ignore')"
   ]
  },
  {
   "cell_type": "code",
   "execution_count": 191,
   "metadata": {},
   "outputs": [],
   "source": [
    "#Load in file as a Dataframe\n",
    "df = pd.read_csv('APPAREL_ids_1_2019.csv')"
   ]
  },
  {
   "cell_type": "code",
   "execution_count": 192,
   "metadata": {
    "scrolled": false
   },
   "outputs": [
    {
     "data": {
      "text/html": [
       "<div>\n",
       "<style scoped>\n",
       "    .dataframe tbody tr th:only-of-type {\n",
       "        vertical-align: middle;\n",
       "    }\n",
       "\n",
       "    .dataframe tbody tr th {\n",
       "        vertical-align: top;\n",
       "    }\n",
       "\n",
       "    .dataframe thead th {\n",
       "        text-align: right;\n",
       "    }\n",
       "</style>\n",
       "<table border=\"1\" class=\"dataframe\">\n",
       "  <thead>\n",
       "    <tr style=\"text-align: right;\">\n",
       "      <th></th>\n",
       "      <th>_id</th>\n",
       "      <th>domain_global_string</th>\n",
       "      <th>review_rating</th>\n",
       "      <th>review_text</th>\n",
       "      <th>review_title</th>\n",
       "      <th>use_sentiment_label</th>\n",
       "      <th>use_theme_exists</th>\n",
       "      <th>fit_sentiment_label</th>\n",
       "      <th>fit_theme_exists</th>\n",
       "      <th>value_sentiment_label</th>\n",
       "      <th>value_theme_exists</th>\n",
       "      <th>style_sentiment_label</th>\n",
       "      <th>style_theme_exists</th>\n",
       "      <th>quality_sentiment_label</th>\n",
       "      <th>quality_theme_exists</th>\n",
       "    </tr>\n",
       "  </thead>\n",
       "  <tbody>\n",
       "    <tr>\n",
       "      <th>0</th>\n",
       "      <td>academy58403947</td>\n",
       "      <td>APPAREL</td>\n",
       "      <td>5</td>\n",
       "      <td>The shorts were excellent in color and style. My husband always elects if possible to purchase Adidas apparel. However, the shorts I ordered were ...</td>\n",
       "      <td>NaN</td>\n",
       "      <td>NaN</td>\n",
       "      <td>NaN</td>\n",
       "      <td>NaN</td>\n",
       "      <td>NaN</td>\n",
       "      <td>pos</td>\n",
       "      <td>1.0</td>\n",
       "      <td>pos</td>\n",
       "      <td>1.0</td>\n",
       "      <td>NaN</td>\n",
       "      <td>NaN</td>\n",
       "    </tr>\n",
       "    <tr>\n",
       "      <th>1</th>\n",
       "      <td>adidas100338674</td>\n",
       "      <td>APPAREL</td>\n",
       "      <td>4</td>\n",
       "      <td>Fab running shorts. Only thing I'd change is the key pocket. Wish it tucked in and closed.</td>\n",
       "      <td>Retro vibe running!</td>\n",
       "      <td>pos</td>\n",
       "      <td>1.0</td>\n",
       "      <td>NaN</td>\n",
       "      <td>NaN</td>\n",
       "      <td>NaN</td>\n",
       "      <td>NaN</td>\n",
       "      <td>NaN</td>\n",
       "      <td>NaN</td>\n",
       "      <td>pos</td>\n",
       "      <td>1.0</td>\n",
       "    </tr>\n",
       "  </tbody>\n",
       "</table>\n",
       "</div>"
      ],
      "text/plain": [
       "               _id domain_global_string  review_rating                                                                                                                                            review_text         review_title use_sentiment_label  use_theme_exists fit_sentiment_label  fit_theme_exists value_sentiment_label  value_theme_exists style_sentiment_label  style_theme_exists quality_sentiment_label  quality_theme_exists\n",
       "0  academy58403947              APPAREL              5  The shorts were excellent in color and style. My husband always elects if possible to purchase Adidas apparel. However, the shorts I ordered were ...                  NaN                 NaN               NaN                 NaN               NaN                   pos                 1.0                   pos                 1.0                     NaN                   NaN\n",
       "1  adidas100338674              APPAREL              4                                                             Fab running shorts. Only thing I'd change is the key pocket. Wish it tucked in and closed.  Retro vibe running!                 pos               1.0                 NaN               NaN                   NaN                 NaN                   NaN                 NaN                     pos                   1.0"
      ]
     },
     "execution_count": 192,
     "metadata": {},
     "output_type": "execute_result"
    }
   ],
   "source": [
    "#Examine first 2 rows of data\n",
    "df.head(2)"
   ]
  },
  {
   "cell_type": "code",
   "execution_count": 13,
   "metadata": {},
   "outputs": [
    {
     "name": "stdout",
     "output_type": "stream",
     "text": [
      "<class 'pandas.core.frame.DataFrame'>\n",
      "RangeIndex: 300 entries, 0 to 299\n",
      "Data columns (total 15 columns):\n",
      "_id                        300 non-null object\n",
      "domain_global_string       300 non-null object\n",
      "review_rating              300 non-null int64\n",
      "review_text                300 non-null object\n",
      "review_title               278 non-null object\n",
      "use_sentiment_label        146 non-null object\n",
      "use_theme_exists           156 non-null float64\n",
      "fit_sentiment_label        220 non-null object\n",
      "fit_theme_exists           226 non-null float64\n",
      "value_sentiment_label      93 non-null object\n",
      "value_theme_exists         99 non-null float64\n",
      "style_sentiment_label      180 non-null object\n",
      "style_theme_exists         183 non-null float64\n",
      "quality_sentiment_label    201 non-null object\n",
      "quality_theme_exists       215 non-null float64\n",
      "dtypes: float64(5), int64(1), object(9)\n",
      "memory usage: 35.2+ KB\n"
     ]
    }
   ],
   "source": [
    "#Examine the data\n",
    "df.info()"
   ]
  },
  {
   "cell_type": "markdown",
   "metadata": {},
   "source": [
    "There are 300 rows of data in this file. There are missing values in some columns. We will have to determine if we need to impute the data in the columns or remove the column entirely depending on what will be done with the data."
   ]
  },
  {
   "cell_type": "markdown",
   "metadata": {},
   "source": [
    "I noticed there was some encoding issues in the file when opening the .csv file in Excel for the 11th row in the column 'review_text'. Index row 10 in the dataframe. This was row 12 in the excel file. We will view it below."
   ]
  },
  {
   "cell_type": "code",
   "execution_count": 7,
   "metadata": {
    "scrolled": true
   },
   "outputs": [
    {
     "data": {
      "text/html": [
       "<div>\n",
       "<style scoped>\n",
       "    .dataframe tbody tr th:only-of-type {\n",
       "        vertical-align: middle;\n",
       "    }\n",
       "\n",
       "    .dataframe tbody tr th {\n",
       "        vertical-align: top;\n",
       "    }\n",
       "\n",
       "    .dataframe thead th {\n",
       "        text-align: right;\n",
       "    }\n",
       "</style>\n",
       "<table border=\"1\" class=\"dataframe\">\n",
       "  <thead>\n",
       "    <tr style=\"text-align: right;\">\n",
       "      <th></th>\n",
       "      <th>review_text</th>\n",
       "    </tr>\n",
       "  </thead>\n",
       "  <tbody>\n",
       "    <tr>\n",
       "      <th>10</th>\n",
       "      <td>It look very nice and for the price it’s a very good buy. You’ll not find anything like this in a TH store for this amount of money, I checked. I wouldn’t mind if it was a bit less baggy but that’s because I’m quite slim.</td>\n",
       "    </tr>\n",
       "  </tbody>\n",
       "</table>\n",
       "</div>"
      ],
      "text/plain": [
       "                                                                                                                                                                                                                      review_text\n",
       "10  It look very nice and for the price it’s a very good buy. You’ll not find anything like this in a TH store for this amount of money, I checked. I wouldn’t mind if it was a bit less baggy but that’s because I’m quite slim."
      ]
     },
     "execution_count": 7,
     "metadata": {},
     "output_type": "execute_result"
    }
   ],
   "source": [
    "df.iloc[[10],[3]]"
   ]
  },
  {
   "cell_type": "markdown",
   "metadata": {},
   "source": [
    "Pandas encodes it correctly when casting it to a Dataframe object."
   ]
  },
  {
   "cell_type": "markdown",
   "metadata": {},
   "source": [
    "## Examine _id Column"
   ]
  },
  {
   "cell_type": "code",
   "execution_count": 8,
   "metadata": {},
   "outputs": [
    {
     "data": {
      "text/plain": [
       "300"
      ]
     },
     "execution_count": 8,
     "metadata": {},
     "output_type": "execute_result"
    }
   ],
   "source": [
    "df['_id'].nunique()"
   ]
  },
  {
   "cell_type": "markdown",
   "metadata": {},
   "source": [
    "All label ids are unique which means there is no duplicate data."
   ]
  },
  {
   "cell_type": "code",
   "execution_count": 9,
   "metadata": {},
   "outputs": [
    {
     "data": {
      "text/plain": [
       "array(['academy58403947', 'adidas100338674', 'adidas102938471',\n",
       "       'amazonR17DE72WNC7FQM', 'amazonR19HL1JO6GEKJK',\n",
       "       'amazonR1AP15DL9DM693', 'amazonR1G0V9QH28G3ZR',\n",
       "       'amazonR1MWL4M4CIPBZB', 'amazonR1WWQIGZKPP3H5',\n",
       "       'amazonR2193684Q6VGLR', 'amazonR22ZNPV0FQJ03H',\n",
       "       'amazonR2CRB5MG7ZYESP', 'amazonR2F4SCGHZZ2X4K',\n",
       "       'amazonR2LPS76EFFFW3E', 'amazonR2ONAUFG04MVWT',\n",
       "       'amazonR2ZNCYQDO2EDXP', 'amazonR2ZXBMLLKPQ8ZU',\n",
       "       'amazonR36P2FT26FK3E1', 'amazonR389FMRAN40WYZ',\n",
       "       'amazonR3BCEB1VL6MRWZ', 'amazonR3NHNBCSGSM6DI',\n",
       "       'amazonR5E2FF7S4900Q', 'amazonR5Q02XU33P9E', 'amazonRK4XTHGP42MJU',\n",
       "       'amazonRMXOJVTMJK375', 'amazonRQUZQMNO2S05Y',\n",
       "       'amazonRVN3126EOU6V3', 'anthro104217203', 'anthro111653415',\n",
       "       'anthro111774875', 'anthro75671819', 'anthro85049219',\n",
       "       'athleta182845183', 'athleta201406022', 'br112619993',\n",
       "       'br134786929', 'br154752135', 'br174799885', 'br198112991',\n",
       "       'br200687295', 'br203048213', 'brooks_brothers163824446',\n",
       "       'carters104724925', 'carters107864437', 'carters107916124',\n",
       "       'carters81012289', 'carters83710468', 'carters91074234',\n",
       "       'carters91301653', 'carters96748937', 'chplace154091634',\n",
       "       'chplace163037499', 'chplace166703708', 'chplace30817631',\n",
       "       'dicks166993537', 'dicks167609616', 'dicks197456033',\n",
       "       'dicks198016725', 'dillards163500480', 'dillards276007457',\n",
       "       'dillards295506767', 'eastbay110092855', 'express105489569',\n",
       "       'express106064202', 'express118390973', 'express118669790',\n",
       "       'express36825799', 'express45723810', 'gap130422170',\n",
       "       'gap145074776', 'gap154365450', 'gap182123467', 'gap194504088',\n",
       "       'gap196341274', 'gap196374477', 'gap198682337', 'gap198909199',\n",
       "       'gap199058552', 'gap200264304', 'gap202892937', 'gap87401579',\n",
       "       'gap87404055', 'jcrew142891817', 'jcrew155592543',\n",
       "       'jcrew178891161', 'jcrew194560092', 'jcrew196285120',\n",
       "       'jcrew197961053', 'kohls101889886', 'kohls108164249',\n",
       "       'kohls108713799', 'kohls109049040', 'kohls111596700',\n",
       "       'kohls111940316', 'kohls112179090', 'kohls113137437',\n",
       "       'kohls118667692', 'kohls161564492', 'kohls24959168',\n",
       "       'kohls40339625', 'kohls40340652', 'kohls40361405', 'kohls47379330',\n",
       "       'kohls47690262', 'kohls47747305', 'kohls48062435', 'kohls51971532',\n",
       "       'kohls69945778', 'kohls79479831', 'kohls96330885', 'kohls96927813',\n",
       "       'lulu112453132', 'lulu162858653', 'lulu163824711', 'lulu164295981',\n",
       "       'lulu175842110', 'lulu176381456', 'lulu178527157', 'lulu178823574',\n",
       "       'lulu179654132', 'lulu180399981', 'lulu180796002', 'lulu181187905',\n",
       "       'lulu182197431', 'lulu32871513', 'lulu43748188', 'macys101923656',\n",
       "       'macys104641412', 'macys109230074', 'macys110794591',\n",
       "       'macys116010009', 'macys126131239', 'macys148211552',\n",
       "       'macys169433312', 'macys169968499', 'macys170563848',\n",
       "       'macys177449978', 'macys183856393', 'macys186890123',\n",
       "       'macys189024094', 'macys189172786', 'macys191408251',\n",
       "       'macys191895949', 'macys193211550', 'macys193687570',\n",
       "       'macys194207340', 'macys199619215', 'macys199992637',\n",
       "       'macys200039730', 'macys201247229', 'macys201366989',\n",
       "       'macys201931791', 'macys202548220', 'macys203131214',\n",
       "       'macys205624309', 'macys41978412', 'macys45531559',\n",
       "       'macys53212368', 'macys71318993', 'macys80966874', 'macys91447201',\n",
       "       'navy106771746', 'navy121949798', 'navy138377438', 'navy179107963',\n",
       "       'navy182540486', 'navy182927296', 'navy184473239', 'navy184684951',\n",
       "       'navy184804150', 'navy184893202', 'navy185815196', 'navy185891238',\n",
       "       'navy185928249', 'navy186826408', 'navy189316230', 'navy190277225',\n",
       "       'navy190519751', 'navy191754129', 'navy192332446', 'navy192574799',\n",
       "       'navy194740071', 'navy195366365', 'navy196062895', 'navy196827340',\n",
       "       'navy197605606', 'navy197991761', 'navy198168831', 'navy198579306',\n",
       "       'navy198806280', 'navy199248583', 'navy199252227', 'navy199776957',\n",
       "       'navy200065470', 'navy200145151', 'navy200205950', 'navy200405207',\n",
       "       'navy200408265', 'navy200759937', 'navy201228958', 'navy202103388',\n",
       "       'navy202288243', 'navy202303519', 'navy202541444', 'navy202846201',\n",
       "       'navy202876619', 'navy202985877', 'navy87441174', 'navy99522955',\n",
       "       'nord113412425', 'nord142194007', 'nord150628806', 'nord159181886',\n",
       "       'nord165124795', 'nord165661860', 'nord166395442', 'nord166563709',\n",
       "       'nord166662226', 'nord167751485', 'nord169553364', 'nord170759692',\n",
       "       'nord176735307', 'nord177333299', 'nord177950449', 'nord178591734',\n",
       "       'nord178675078', 'nord178866652', 'nord179327771', 'nord180002203',\n",
       "       'nord180136614', 'nord180364266', 'nord180383034', 'nord180524034',\n",
       "       'nord181346322', 'nord181349215', 'nord181518457', 'nord40112388',\n",
       "       'nord67224768', 'nord90699772', 'penney113148979',\n",
       "       'penney117076308', 'penney123188587', 'penney125455173',\n",
       "       'penney127828369', 'penney141517202', 'penney154721165',\n",
       "       'penney158822681', 'penney158900822', 'penney162261899',\n",
       "       'penney164189961', 'penney175126779', 'penney177081066',\n",
       "       'penney178660866', 'penney179990735', 'penney180563339',\n",
       "       'penney74123967', 'talbots104025440', 'talbots104981753',\n",
       "       'target199310640', 'target199546039', 'target201318551',\n",
       "       'target201441079', 'target201469941', 'target203370053',\n",
       "       'target206277235', 'target85168933', 'target93103263',\n",
       "       'under_armour152284283', 'under_armour154893986',\n",
       "       'under_armour178073009', 'under_armour93385044', 'vs198641588',\n",
       "       'vs198767692', 'walmart102135323', 'walmart10615348',\n",
       "       'walmart150483711', 'walmart18410626', 'walmart184249935',\n",
       "       'walmart195982924', 'walmart201290084', 'walmart37081952',\n",
       "       'walmart47273573', 'walmart5228562', 'walmart5944335',\n",
       "       'walmart70691220', 'walmart76743292', 'walmart78937422',\n",
       "       'walmart79904828', 'zappos4565582', 'zappos4592721',\n",
       "       'zappos4717290', 'zappos4869871', 'zappos5056567', 'zappos5149940',\n",
       "       'zappos5189742', 'zappos5298174', 'zappos5298190', 'zappos5307009',\n",
       "       'zappos5361302', 'zappos5389083'], dtype=object)"
      ]
     },
     "execution_count": 9,
     "metadata": {},
     "output_type": "execute_result"
    }
   ],
   "source": [
    "#Examine _id column\n",
    "df['_id'].unique()"
   ]
  },
  {
   "cell_type": "markdown",
   "metadata": {},
   "source": [
    "It appears the _id labels represent the source/store/site from where the reviews are coming from, followed by numerical values."
   ]
  },
  {
   "cell_type": "markdown",
   "metadata": {},
   "source": [
    "## Explore Missing Data"
   ]
  },
  {
   "cell_type": "code",
   "execution_count": 14,
   "metadata": {
    "collapsed": true
   },
   "outputs": [],
   "source": [
    "#Python package that lets us visualize missing data\n",
    "import missingno as msno"
   ]
  },
  {
   "cell_type": "code",
   "execution_count": 174,
   "metadata": {},
   "outputs": [
    {
     "data": {
      "image/png": "[encoded data removed]",
      "text/plain": [
       "<Figure size 1800x720 with 2 Axes>"
      ]
     },
     "metadata": {},
     "output_type": "display_data"
    }
   ],
   "source": [
    "#White areas represent where there is missing data relative to the dataframe\n",
    "msno.matrix(df);"
   ]
  },
  {
   "cell_type": "code",
   "execution_count": 175,
   "metadata": {},
   "outputs": [
    {
     "data": {
      "image/png": "[encoded data removed]",
      "text/plain": [
       "<Figure size 1728x720 with 3 Axes>"
      ]
     },
     "metadata": {},
     "output_type": "display_data"
    }
   ],
   "source": [
    "#Barchart of present values\n",
    "msno.bar(df);"
   ]
  },
  {
   "cell_type": "markdown",
   "metadata": {},
   "source": [
    "For this data set it does not make sense to impute data because we do not know how the sentiment models is making it's prediction, nor do we have access to the sentiment model in this notebook."
   ]
  },
  {
   "cell_type": "markdown",
   "metadata": {},
   "source": [
    "One thing immediately stands out from the data.  There are some columns where a use theme exisits, but there is no sentiment score for it.  We can conclude three possibilities. One, there is missing data for the sentiment label given the assumption that the theme for the respective score trully exists.  The second conclusion is that the value of 1.0 for _theme_exists columns is incorrect and should be 0.  Finally, it may be that the model did not predict a score for whatever reason."
   ]
  },
  {
   "cell_type": "code",
   "execution_count": 193,
   "metadata": {
    "scrolled": true
   },
   "outputs": [
    {
     "data": {
      "text/html": [
       "<div>\n",
       "<style scoped>\n",
       "    .dataframe tbody tr th:only-of-type {\n",
       "        vertical-align: middle;\n",
       "    }\n",
       "\n",
       "    .dataframe tbody tr th {\n",
       "        vertical-align: top;\n",
       "    }\n",
       "\n",
       "    .dataframe thead th {\n",
       "        text-align: right;\n",
       "    }\n",
       "</style>\n",
       "<table border=\"1\" class=\"dataframe\">\n",
       "  <thead>\n",
       "    <tr style=\"text-align: right;\">\n",
       "      <th></th>\n",
       "      <th>_id</th>\n",
       "      <th>domain_global_string</th>\n",
       "      <th>review_rating</th>\n",
       "      <th>review_text</th>\n",
       "      <th>review_title</th>\n",
       "      <th>use_sentiment_label</th>\n",
       "      <th>use_theme_exists</th>\n",
       "      <th>fit_sentiment_label</th>\n",
       "      <th>fit_theme_exists</th>\n",
       "      <th>value_sentiment_label</th>\n",
       "      <th>value_theme_exists</th>\n",
       "      <th>style_sentiment_label</th>\n",
       "      <th>style_theme_exists</th>\n",
       "      <th>quality_sentiment_label</th>\n",
       "      <th>quality_theme_exists</th>\n",
       "    </tr>\n",
       "  </thead>\n",
       "  <tbody>\n",
       "    <tr>\n",
       "      <th>24</th>\n",
       "      <td>amazonRMXOJVTMJK375</td>\n",
       "      <td>APPAREL</td>\n",
       "      <td>5</td>\n",
       "      <td>I bought three size 8 huskys for my 8yo who is 54\" tall and weighs 102 lbs. (Football Fullback)  These pants fit just fine.  We ordered them becau...</td>\n",
       "      <td>As Expected of Levi's</td>\n",
       "      <td>NaN</td>\n",
       "      <td>1.0</td>\n",
       "      <td>pos</td>\n",
       "      <td>1.0</td>\n",
       "      <td>NaN</td>\n",
       "      <td>NaN</td>\n",
       "      <td>NaN</td>\n",
       "      <td>NaN</td>\n",
       "      <td>NaN</td>\n",
       "      <td>NaN</td>\n",
       "    </tr>\n",
       "    <tr>\n",
       "      <th>62</th>\n",
       "      <td>express105489569</td>\n",
       "      <td>APPAREL</td>\n",
       "      <td>5</td>\n",
       "      <td>Fits nice. Wear to work or dress up jeans. The color pop with with gold zipper is cute</td>\n",
       "      <td>Nice shirt</td>\n",
       "      <td>NaN</td>\n",
       "      <td>1.0</td>\n",
       "      <td>pos</td>\n",
       "      <td>1.0</td>\n",
       "      <td>NaN</td>\n",
       "      <td>NaN</td>\n",
       "      <td>pos</td>\n",
       "      <td>1.0</td>\n",
       "      <td>pos</td>\n",
       "      <td>1.0</td>\n",
       "    </tr>\n",
       "  </tbody>\n",
       "</table>\n",
       "</div>"
      ],
      "text/plain": [
       "                    _id domain_global_string  review_rating                                                                                                                                            review_text           review_title use_sentiment_label  use_theme_exists fit_sentiment_label  fit_theme_exists value_sentiment_label  value_theme_exists style_sentiment_label  style_theme_exists quality_sentiment_label  quality_theme_exists\n",
       "24  amazonRMXOJVTMJK375              APPAREL              5  I bought three size 8 huskys for my 8yo who is 54\" tall and weighs 102 lbs. (Football Fullback)  These pants fit just fine.  We ordered them becau...  As Expected of Levi's                 NaN               1.0                 pos               1.0                   NaN                 NaN                   NaN                 NaN                     NaN                   NaN\n",
       "62     express105489569              APPAREL              5                                                                 Fits nice. Wear to work or dress up jeans. The color pop with with gold zipper is cute             Nice shirt                 NaN               1.0                 pos               1.0                   NaN                 NaN                   pos                 1.0                     pos                   1.0"
      ]
     },
     "execution_count": 193,
     "metadata": {},
     "output_type": "execute_result"
    }
   ],
   "source": [
    "df[(df['use_sentiment_label'].isnull()) & (df['use_theme_exists'].notnull())].head(2)"
   ]
  },
  {
   "cell_type": "code",
   "execution_count": 32,
   "metadata": {},
   "outputs": [
    {
     "data": {
      "text/html": [
       "<div>\n",
       "<style scoped>\n",
       "    .dataframe tbody tr th:only-of-type {\n",
       "        vertical-align: middle;\n",
       "    }\n",
       "\n",
       "    .dataframe tbody tr th {\n",
       "        vertical-align: top;\n",
       "    }\n",
       "\n",
       "    .dataframe thead th {\n",
       "        text-align: right;\n",
       "    }\n",
       "</style>\n",
       "<table border=\"1\" class=\"dataframe\">\n",
       "  <thead>\n",
       "    <tr style=\"text-align: right;\">\n",
       "      <th></th>\n",
       "      <th>_id</th>\n",
       "      <th>domain_global_string</th>\n",
       "      <th>review_rating</th>\n",
       "      <th>review_text</th>\n",
       "      <th>review_title</th>\n",
       "      <th>use_sentiment_label</th>\n",
       "      <th>use_theme_exists</th>\n",
       "      <th>fit_sentiment_label</th>\n",
       "      <th>fit_theme_exists</th>\n",
       "      <th>value_sentiment_label</th>\n",
       "      <th>value_theme_exists</th>\n",
       "      <th>style_sentiment_label</th>\n",
       "      <th>style_theme_exists</th>\n",
       "      <th>quality_sentiment_label</th>\n",
       "      <th>quality_theme_exists</th>\n",
       "    </tr>\n",
       "  </thead>\n",
       "  <tbody>\n",
       "  </tbody>\n",
       "</table>\n",
       "</div>"
      ],
      "text/plain": [
       "Empty DataFrame\n",
       "Columns: [_id, domain_global_string, review_rating, review_text, review_title, use_sentiment_label, use_theme_exists, fit_sentiment_label, fit_theme_exists, value_sentiment_label, value_theme_exists, style_sentiment_label, style_theme_exists, quality_sentiment_label, quality_theme_exists]\n",
       "Index: []"
      ]
     },
     "execution_count": 32,
     "metadata": {},
     "output_type": "execute_result"
    }
   ],
   "source": [
    "df[(df['use_sentiment_label'].notnull()) & (df['use_theme_exists'].isnull())]"
   ]
  },
  {
   "cell_type": "markdown",
   "metadata": {},
   "source": [
    "This confirms my suspicion for the 'use' theme.  There exist rows of data where there is 'use' theme identified but no sentiment label in the same row of data.  There are no rows present where the 'use' sentiment label exisits but the use theme does not exist.\n",
    "\n",
    "To be sure, we can test the other themes in a similar fashion, to further bolster the hypothesis."
   ]
  },
  {
   "cell_type": "code",
   "execution_count": 194,
   "metadata": {
    "scrolled": true
   },
   "outputs": [
    {
     "data": {
      "text/html": [
       "<div>\n",
       "<style scoped>\n",
       "    .dataframe tbody tr th:only-of-type {\n",
       "        vertical-align: middle;\n",
       "    }\n",
       "\n",
       "    .dataframe tbody tr th {\n",
       "        vertical-align: top;\n",
       "    }\n",
       "\n",
       "    .dataframe thead th {\n",
       "        text-align: right;\n",
       "    }\n",
       "</style>\n",
       "<table border=\"1\" class=\"dataframe\">\n",
       "  <thead>\n",
       "    <tr style=\"text-align: right;\">\n",
       "      <th></th>\n",
       "      <th>_id</th>\n",
       "      <th>domain_global_string</th>\n",
       "      <th>review_rating</th>\n",
       "      <th>review_text</th>\n",
       "      <th>review_title</th>\n",
       "      <th>use_sentiment_label</th>\n",
       "      <th>use_theme_exists</th>\n",
       "      <th>fit_sentiment_label</th>\n",
       "      <th>fit_theme_exists</th>\n",
       "      <th>value_sentiment_label</th>\n",
       "      <th>value_theme_exists</th>\n",
       "      <th>style_sentiment_label</th>\n",
       "      <th>style_theme_exists</th>\n",
       "      <th>quality_sentiment_label</th>\n",
       "      <th>quality_theme_exists</th>\n",
       "    </tr>\n",
       "  </thead>\n",
       "  <tbody>\n",
       "    <tr>\n",
       "      <th>42</th>\n",
       "      <td>carters104724925</td>\n",
       "      <td>APPAREL</td>\n",
       "      <td>4</td>\n",
       "      <td>My daughter picked this dress out online, we got it in and she loves the colors. I think the green is darker but its all very pretty. My daughter ...</td>\n",
       "      <td>love these colors together</td>\n",
       "      <td>pos</td>\n",
       "      <td>1.0</td>\n",
       "      <td>NaN</td>\n",
       "      <td>1.0</td>\n",
       "      <td>NaN</td>\n",
       "      <td>NaN</td>\n",
       "      <td>pos</td>\n",
       "      <td>1.0</td>\n",
       "      <td>NaN</td>\n",
       "      <td>NaN</td>\n",
       "    </tr>\n",
       "    <tr>\n",
       "      <th>63</th>\n",
       "      <td>express106064202</td>\n",
       "      <td>APPAREL</td>\n",
       "      <td>5</td>\n",
       "      <td>I ordered this dress in a size small, and the dress looks spectacular! I must say it does show a little bit of cleavage, and it hugs the waist ver...</td>\n",
       "      <td>Love IT!!!</td>\n",
       "      <td>NaN</td>\n",
       "      <td>1.0</td>\n",
       "      <td>NaN</td>\n",
       "      <td>1.0</td>\n",
       "      <td>NaN</td>\n",
       "      <td>NaN</td>\n",
       "      <td>pos</td>\n",
       "      <td>1.0</td>\n",
       "      <td>NaN</td>\n",
       "      <td>NaN</td>\n",
       "    </tr>\n",
       "  </tbody>\n",
       "</table>\n",
       "</div>"
      ],
      "text/plain": [
       "                 _id domain_global_string  review_rating                                                                                                                                            review_text                review_title use_sentiment_label  use_theme_exists fit_sentiment_label  fit_theme_exists value_sentiment_label  value_theme_exists style_sentiment_label  style_theme_exists quality_sentiment_label  quality_theme_exists\n",
       "42  carters104724925              APPAREL              4  My daughter picked this dress out online, we got it in and she loves the colors. I think the green is darker but its all very pretty. My daughter ...  love these colors together                 pos               1.0                 NaN               1.0                   NaN                 NaN                   pos                 1.0                     NaN                   NaN\n",
       "63  express106064202              APPAREL              5  I ordered this dress in a size small, and the dress looks spectacular! I must say it does show a little bit of cleavage, and it hugs the waist ver...                  Love IT!!!                 NaN               1.0                 NaN               1.0                   NaN                 NaN                   pos                 1.0                     NaN                   NaN"
      ]
     },
     "execution_count": 194,
     "metadata": {},
     "output_type": "execute_result"
    }
   ],
   "source": [
    "df[(df['fit_sentiment_label'].isnull()) & (df['fit_theme_exists'].notnull())].head(2)"
   ]
  },
  {
   "cell_type": "code",
   "execution_count": 34,
   "metadata": {},
   "outputs": [
    {
     "data": {
      "text/html": [
       "<div>\n",
       "<style scoped>\n",
       "    .dataframe tbody tr th:only-of-type {\n",
       "        vertical-align: middle;\n",
       "    }\n",
       "\n",
       "    .dataframe tbody tr th {\n",
       "        vertical-align: top;\n",
       "    }\n",
       "\n",
       "    .dataframe thead th {\n",
       "        text-align: right;\n",
       "    }\n",
       "</style>\n",
       "<table border=\"1\" class=\"dataframe\">\n",
       "  <thead>\n",
       "    <tr style=\"text-align: right;\">\n",
       "      <th></th>\n",
       "      <th>_id</th>\n",
       "      <th>domain_global_string</th>\n",
       "      <th>review_rating</th>\n",
       "      <th>review_text</th>\n",
       "      <th>review_title</th>\n",
       "      <th>use_sentiment_label</th>\n",
       "      <th>use_theme_exists</th>\n",
       "      <th>fit_sentiment_label</th>\n",
       "      <th>fit_theme_exists</th>\n",
       "      <th>value_sentiment_label</th>\n",
       "      <th>value_theme_exists</th>\n",
       "      <th>style_sentiment_label</th>\n",
       "      <th>style_theme_exists</th>\n",
       "      <th>quality_sentiment_label</th>\n",
       "      <th>quality_theme_exists</th>\n",
       "    </tr>\n",
       "  </thead>\n",
       "  <tbody>\n",
       "  </tbody>\n",
       "</table>\n",
       "</div>"
      ],
      "text/plain": [
       "Empty DataFrame\n",
       "Columns: [_id, domain_global_string, review_rating, review_text, review_title, use_sentiment_label, use_theme_exists, fit_sentiment_label, fit_theme_exists, value_sentiment_label, value_theme_exists, style_sentiment_label, style_theme_exists, quality_sentiment_label, quality_theme_exists]\n",
       "Index: []"
      ]
     },
     "execution_count": 34,
     "metadata": {},
     "output_type": "execute_result"
    }
   ],
   "source": [
    "df[(df['fit_sentiment_label'].notnull()) & (df['fit_theme_exists'].isnull())]"
   ]
  },
  {
   "cell_type": "code",
   "execution_count": 195,
   "metadata": {},
   "outputs": [
    {
     "data": {
      "text/html": [
       "<div>\n",
       "<style scoped>\n",
       "    .dataframe tbody tr th:only-of-type {\n",
       "        vertical-align: middle;\n",
       "    }\n",
       "\n",
       "    .dataframe tbody tr th {\n",
       "        vertical-align: top;\n",
       "    }\n",
       "\n",
       "    .dataframe thead th {\n",
       "        text-align: right;\n",
       "    }\n",
       "</style>\n",
       "<table border=\"1\" class=\"dataframe\">\n",
       "  <thead>\n",
       "    <tr style=\"text-align: right;\">\n",
       "      <th></th>\n",
       "      <th>_id</th>\n",
       "      <th>domain_global_string</th>\n",
       "      <th>review_rating</th>\n",
       "      <th>review_text</th>\n",
       "      <th>review_title</th>\n",
       "      <th>use_sentiment_label</th>\n",
       "      <th>use_theme_exists</th>\n",
       "      <th>fit_sentiment_label</th>\n",
       "      <th>fit_theme_exists</th>\n",
       "      <th>value_sentiment_label</th>\n",
       "      <th>value_theme_exists</th>\n",
       "      <th>style_sentiment_label</th>\n",
       "      <th>style_theme_exists</th>\n",
       "      <th>quality_sentiment_label</th>\n",
       "      <th>quality_theme_exists</th>\n",
       "    </tr>\n",
       "  </thead>\n",
       "  <tbody>\n",
       "    <tr>\n",
       "      <th>12</th>\n",
       "      <td>amazonR2F4SCGHZZ2X4K</td>\n",
       "      <td>APPAREL</td>\n",
       "      <td>5</td>\n",
       "      <td>Fit as expected (went with Large as a 6'4\" 240 lb ).  Doesn't shred after normal usage, very comfortable, and doesn't shrink in the wash.  Will bu...</td>\n",
       "      <td>very comfortable, and doesn't shrink in the wash</td>\n",
       "      <td>NaN</td>\n",
       "      <td>NaN</td>\n",
       "      <td>pos</td>\n",
       "      <td>1.0</td>\n",
       "      <td>NaN</td>\n",
       "      <td>1.0</td>\n",
       "      <td>NaN</td>\n",
       "      <td>NaN</td>\n",
       "      <td>neg</td>\n",
       "      <td>1.0</td>\n",
       "    </tr>\n",
       "    <tr>\n",
       "      <th>30</th>\n",
       "      <td>anthro75671819</td>\n",
       "      <td>APPAREL</td>\n",
       "      <td>5</td>\n",
       "      <td>For reference, I am 5'3\", 110lbs and 32B. This top fit perfectly.The embroidery makes this piece look so much more expensive then it is. If you pr...</td>\n",
       "      <td>Simple Boho Elegance</td>\n",
       "      <td>pos</td>\n",
       "      <td>1.0</td>\n",
       "      <td>pos</td>\n",
       "      <td>1.0</td>\n",
       "      <td>NaN</td>\n",
       "      <td>1.0</td>\n",
       "      <td>pos</td>\n",
       "      <td>1.0</td>\n",
       "      <td>NaN</td>\n",
       "      <td>NaN</td>\n",
       "    </tr>\n",
       "  </tbody>\n",
       "</table>\n",
       "</div>"
      ],
      "text/plain": [
       "                     _id domain_global_string  review_rating                                                                                                                                            review_text                                      review_title use_sentiment_label  use_theme_exists fit_sentiment_label  fit_theme_exists value_sentiment_label  value_theme_exists style_sentiment_label  style_theme_exists quality_sentiment_label  quality_theme_exists\n",
       "12  amazonR2F4SCGHZZ2X4K              APPAREL              5  Fit as expected (went with Large as a 6'4\" 240 lb ).  Doesn't shred after normal usage, very comfortable, and doesn't shrink in the wash.  Will bu...  very comfortable, and doesn't shrink in the wash                 NaN               NaN                 pos               1.0                   NaN                 1.0                   NaN                 NaN                     neg                   1.0\n",
       "30        anthro75671819              APPAREL              5  For reference, I am 5'3\", 110lbs and 32B. This top fit perfectly.The embroidery makes this piece look so much more expensive then it is. If you pr...                              Simple Boho Elegance                 pos               1.0                 pos               1.0                   NaN                 1.0                   pos                 1.0                     NaN                   NaN"
      ]
     },
     "execution_count": 195,
     "metadata": {},
     "output_type": "execute_result"
    }
   ],
   "source": [
    "df[(df['value_sentiment_label'].isnull()) & (df['value_theme_exists'].notnull())].head(2)"
   ]
  },
  {
   "cell_type": "code",
   "execution_count": 36,
   "metadata": {},
   "outputs": [
    {
     "data": {
      "text/html": [
       "<div>\n",
       "<style scoped>\n",
       "    .dataframe tbody tr th:only-of-type {\n",
       "        vertical-align: middle;\n",
       "    }\n",
       "\n",
       "    .dataframe tbody tr th {\n",
       "        vertical-align: top;\n",
       "    }\n",
       "\n",
       "    .dataframe thead th {\n",
       "        text-align: right;\n",
       "    }\n",
       "</style>\n",
       "<table border=\"1\" class=\"dataframe\">\n",
       "  <thead>\n",
       "    <tr style=\"text-align: right;\">\n",
       "      <th></th>\n",
       "      <th>_id</th>\n",
       "      <th>domain_global_string</th>\n",
       "      <th>review_rating</th>\n",
       "      <th>review_text</th>\n",
       "      <th>review_title</th>\n",
       "      <th>use_sentiment_label</th>\n",
       "      <th>use_theme_exists</th>\n",
       "      <th>fit_sentiment_label</th>\n",
       "      <th>fit_theme_exists</th>\n",
       "      <th>value_sentiment_label</th>\n",
       "      <th>value_theme_exists</th>\n",
       "      <th>style_sentiment_label</th>\n",
       "      <th>style_theme_exists</th>\n",
       "      <th>quality_sentiment_label</th>\n",
       "      <th>quality_theme_exists</th>\n",
       "    </tr>\n",
       "  </thead>\n",
       "  <tbody>\n",
       "  </tbody>\n",
       "</table>\n",
       "</div>"
      ],
      "text/plain": [
       "Empty DataFrame\n",
       "Columns: [_id, domain_global_string, review_rating, review_text, review_title, use_sentiment_label, use_theme_exists, fit_sentiment_label, fit_theme_exists, value_sentiment_label, value_theme_exists, style_sentiment_label, style_theme_exists, quality_sentiment_label, quality_theme_exists]\n",
       "Index: []"
      ]
     },
     "execution_count": 36,
     "metadata": {},
     "output_type": "execute_result"
    }
   ],
   "source": [
    "df[(df['value_sentiment_label'].notnull()) & (df['value_theme_exists'].isnull())]"
   ]
  },
  {
   "cell_type": "code",
   "execution_count": 196,
   "metadata": {
    "scrolled": true
   },
   "outputs": [
    {
     "data": {
      "text/html": [
       "<div>\n",
       "<style scoped>\n",
       "    .dataframe tbody tr th:only-of-type {\n",
       "        vertical-align: middle;\n",
       "    }\n",
       "\n",
       "    .dataframe tbody tr th {\n",
       "        vertical-align: top;\n",
       "    }\n",
       "\n",
       "    .dataframe thead th {\n",
       "        text-align: right;\n",
       "    }\n",
       "</style>\n",
       "<table border=\"1\" class=\"dataframe\">\n",
       "  <thead>\n",
       "    <tr style=\"text-align: right;\">\n",
       "      <th></th>\n",
       "      <th>_id</th>\n",
       "      <th>domain_global_string</th>\n",
       "      <th>review_rating</th>\n",
       "      <th>review_text</th>\n",
       "      <th>review_title</th>\n",
       "      <th>use_sentiment_label</th>\n",
       "      <th>use_theme_exists</th>\n",
       "      <th>fit_sentiment_label</th>\n",
       "      <th>fit_theme_exists</th>\n",
       "      <th>value_sentiment_label</th>\n",
       "      <th>value_theme_exists</th>\n",
       "      <th>style_sentiment_label</th>\n",
       "      <th>style_theme_exists</th>\n",
       "      <th>quality_sentiment_label</th>\n",
       "      <th>quality_theme_exists</th>\n",
       "    </tr>\n",
       "  </thead>\n",
       "  <tbody>\n",
       "    <tr>\n",
       "      <th>6</th>\n",
       "      <td>amazonR1G0V9QH28G3ZR</td>\n",
       "      <td>APPAREL</td>\n",
       "      <td>2</td>\n",
       "      <td>This shirt felt like \"seconds\" quality. Mismatched seams, and VERY billowy over the bust. If you're looking to accentuate your chest this will do ...</td>\n",
       "      <td>Photo is a bit decieving, seconds quality</td>\n",
       "      <td>NaN</td>\n",
       "      <td>NaN</td>\n",
       "      <td>NaN</td>\n",
       "      <td>NaN</td>\n",
       "      <td>NaN</td>\n",
       "      <td>NaN</td>\n",
       "      <td>NaN</td>\n",
       "      <td>1.0</td>\n",
       "      <td>pos</td>\n",
       "      <td>1.0</td>\n",
       "    </tr>\n",
       "    <tr>\n",
       "      <th>81</th>\n",
       "      <td>gap87404055</td>\n",
       "      <td>APPAREL</td>\n",
       "      <td>1</td>\n",
       "      <td>These shirts are soft and I love the colors.  But they are very thin, and the necks do not hold their shape.  I have bought T-Shirts for a fractio...</td>\n",
       "      <td>Too Thin!</td>\n",
       "      <td>NaN</td>\n",
       "      <td>NaN</td>\n",
       "      <td>NaN</td>\n",
       "      <td>NaN</td>\n",
       "      <td>pos</td>\n",
       "      <td>1.0</td>\n",
       "      <td>NaN</td>\n",
       "      <td>1.0</td>\n",
       "      <td>pos</td>\n",
       "      <td>1.0</td>\n",
       "    </tr>\n",
       "  </tbody>\n",
       "</table>\n",
       "</div>"
      ],
      "text/plain": [
       "                     _id domain_global_string  review_rating                                                                                                                                            review_text                               review_title use_sentiment_label  use_theme_exists fit_sentiment_label  fit_theme_exists value_sentiment_label  value_theme_exists style_sentiment_label  style_theme_exists quality_sentiment_label  quality_theme_exists\n",
       "6   amazonR1G0V9QH28G3ZR              APPAREL              2  This shirt felt like \"seconds\" quality. Mismatched seams, and VERY billowy over the bust. If you're looking to accentuate your chest this will do ...  Photo is a bit decieving, seconds quality                 NaN               NaN                 NaN               NaN                   NaN                 NaN                   NaN                 1.0                     pos                   1.0\n",
       "81           gap87404055              APPAREL              1  These shirts are soft and I love the colors.  But they are very thin, and the necks do not hold their shape.  I have bought T-Shirts for a fractio...                                  Too Thin!                 NaN               NaN                 NaN               NaN                   pos                 1.0                   NaN                 1.0                     pos                   1.0"
      ]
     },
     "execution_count": 196,
     "metadata": {},
     "output_type": "execute_result"
    }
   ],
   "source": [
    "df[(df['style_sentiment_label'].isnull()) & (df['style_theme_exists'].notnull())].head(2)"
   ]
  },
  {
   "cell_type": "code",
   "execution_count": 38,
   "metadata": {},
   "outputs": [
    {
     "data": {
      "text/html": [
       "<div>\n",
       "<style scoped>\n",
       "    .dataframe tbody tr th:only-of-type {\n",
       "        vertical-align: middle;\n",
       "    }\n",
       "\n",
       "    .dataframe tbody tr th {\n",
       "        vertical-align: top;\n",
       "    }\n",
       "\n",
       "    .dataframe thead th {\n",
       "        text-align: right;\n",
       "    }\n",
       "</style>\n",
       "<table border=\"1\" class=\"dataframe\">\n",
       "  <thead>\n",
       "    <tr style=\"text-align: right;\">\n",
       "      <th></th>\n",
       "      <th>_id</th>\n",
       "      <th>domain_global_string</th>\n",
       "      <th>review_rating</th>\n",
       "      <th>review_text</th>\n",
       "      <th>review_title</th>\n",
       "      <th>use_sentiment_label</th>\n",
       "      <th>use_theme_exists</th>\n",
       "      <th>fit_sentiment_label</th>\n",
       "      <th>fit_theme_exists</th>\n",
       "      <th>value_sentiment_label</th>\n",
       "      <th>value_theme_exists</th>\n",
       "      <th>style_sentiment_label</th>\n",
       "      <th>style_theme_exists</th>\n",
       "      <th>quality_sentiment_label</th>\n",
       "      <th>quality_theme_exists</th>\n",
       "    </tr>\n",
       "  </thead>\n",
       "  <tbody>\n",
       "  </tbody>\n",
       "</table>\n",
       "</div>"
      ],
      "text/plain": [
       "Empty DataFrame\n",
       "Columns: [_id, domain_global_string, review_rating, review_text, review_title, use_sentiment_label, use_theme_exists, fit_sentiment_label, fit_theme_exists, value_sentiment_label, value_theme_exists, style_sentiment_label, style_theme_exists, quality_sentiment_label, quality_theme_exists]\n",
       "Index: []"
      ]
     },
     "execution_count": 38,
     "metadata": {},
     "output_type": "execute_result"
    }
   ],
   "source": [
    "df[(df['style_sentiment_label'].notnull()) & (df['style_theme_exists'].isnull())]"
   ]
  },
  {
   "cell_type": "code",
   "execution_count": 197,
   "metadata": {},
   "outputs": [
    {
     "data": {
      "text/html": [
       "<div>\n",
       "<style scoped>\n",
       "    .dataframe tbody tr th:only-of-type {\n",
       "        vertical-align: middle;\n",
       "    }\n",
       "\n",
       "    .dataframe tbody tr th {\n",
       "        vertical-align: top;\n",
       "    }\n",
       "\n",
       "    .dataframe thead th {\n",
       "        text-align: right;\n",
       "    }\n",
       "</style>\n",
       "<table border=\"1\" class=\"dataframe\">\n",
       "  <thead>\n",
       "    <tr style=\"text-align: right;\">\n",
       "      <th></th>\n",
       "      <th>_id</th>\n",
       "      <th>domain_global_string</th>\n",
       "      <th>review_rating</th>\n",
       "      <th>review_text</th>\n",
       "      <th>review_title</th>\n",
       "      <th>use_sentiment_label</th>\n",
       "      <th>use_theme_exists</th>\n",
       "      <th>fit_sentiment_label</th>\n",
       "      <th>fit_theme_exists</th>\n",
       "      <th>value_sentiment_label</th>\n",
       "      <th>value_theme_exists</th>\n",
       "      <th>style_sentiment_label</th>\n",
       "      <th>style_theme_exists</th>\n",
       "      <th>quality_sentiment_label</th>\n",
       "      <th>quality_theme_exists</th>\n",
       "    </tr>\n",
       "  </thead>\n",
       "  <tbody>\n",
       "    <tr>\n",
       "      <th>7</th>\n",
       "      <td>amazonR1MWL4M4CIPBZB</td>\n",
       "      <td>APPAREL</td>\n",
       "      <td>5</td>\n",
       "      <td>Great product. Fits perfect. Keep heat away from your body. Doesn't fade or shrink after washing. Will definitely buy again.</td>\n",
       "      <td>A+</td>\n",
       "      <td>NaN</td>\n",
       "      <td>NaN</td>\n",
       "      <td>pos</td>\n",
       "      <td>1.0</td>\n",
       "      <td>pos</td>\n",
       "      <td>1.0</td>\n",
       "      <td>NaN</td>\n",
       "      <td>NaN</td>\n",
       "      <td>NaN</td>\n",
       "      <td>1.0</td>\n",
       "    </tr>\n",
       "    <tr>\n",
       "      <th>77</th>\n",
       "      <td>gap199058552</td>\n",
       "      <td>APPAREL</td>\n",
       "      <td>5</td>\n",
       "      <td>Great fit. Comfy. Soft fabric. Bought the tan color and I think it will be perfect for work or weekend wear. I am 5’4” and weigh 115 lbs. Size 0 r...</td>\n",
       "      <td>Stylish and good fitting basic pants</td>\n",
       "      <td>pos</td>\n",
       "      <td>1.0</td>\n",
       "      <td>pos</td>\n",
       "      <td>1.0</td>\n",
       "      <td>NaN</td>\n",
       "      <td>NaN</td>\n",
       "      <td>pos</td>\n",
       "      <td>1.0</td>\n",
       "      <td>NaN</td>\n",
       "      <td>1.0</td>\n",
       "    </tr>\n",
       "  </tbody>\n",
       "</table>\n",
       "</div>"
      ],
      "text/plain": [
       "                     _id domain_global_string  review_rating                                                                                                                                            review_text                          review_title use_sentiment_label  use_theme_exists fit_sentiment_label  fit_theme_exists value_sentiment_label  value_theme_exists style_sentiment_label  style_theme_exists quality_sentiment_label  quality_theme_exists\n",
       "7   amazonR1MWL4M4CIPBZB              APPAREL              5                           Great product. Fits perfect. Keep heat away from your body. Doesn't fade or shrink after washing. Will definitely buy again.                                    A+                 NaN               NaN                 pos               1.0                   pos                 1.0                   NaN                 NaN                     NaN                   1.0\n",
       "77          gap199058552              APPAREL              5  Great fit. Comfy. Soft fabric. Bought the tan color and I think it will be perfect for work or weekend wear. I am 5’4” and weigh 115 lbs. Size 0 r...  Stylish and good fitting basic pants                 pos               1.0                 pos               1.0                   NaN                 NaN                   pos                 1.0                     NaN                   1.0"
      ]
     },
     "execution_count": 197,
     "metadata": {},
     "output_type": "execute_result"
    }
   ],
   "source": [
    "df[(df['quality_sentiment_label'].isnull()) & (df['quality_theme_exists'].notnull())].head(2)"
   ]
  },
  {
   "cell_type": "code",
   "execution_count": 40,
   "metadata": {},
   "outputs": [
    {
     "data": {
      "text/html": [
       "<div>\n",
       "<style scoped>\n",
       "    .dataframe tbody tr th:only-of-type {\n",
       "        vertical-align: middle;\n",
       "    }\n",
       "\n",
       "    .dataframe tbody tr th {\n",
       "        vertical-align: top;\n",
       "    }\n",
       "\n",
       "    .dataframe thead th {\n",
       "        text-align: right;\n",
       "    }\n",
       "</style>\n",
       "<table border=\"1\" class=\"dataframe\">\n",
       "  <thead>\n",
       "    <tr style=\"text-align: right;\">\n",
       "      <th></th>\n",
       "      <th>_id</th>\n",
       "      <th>domain_global_string</th>\n",
       "      <th>review_rating</th>\n",
       "      <th>review_text</th>\n",
       "      <th>review_title</th>\n",
       "      <th>use_sentiment_label</th>\n",
       "      <th>use_theme_exists</th>\n",
       "      <th>fit_sentiment_label</th>\n",
       "      <th>fit_theme_exists</th>\n",
       "      <th>value_sentiment_label</th>\n",
       "      <th>value_theme_exists</th>\n",
       "      <th>style_sentiment_label</th>\n",
       "      <th>style_theme_exists</th>\n",
       "      <th>quality_sentiment_label</th>\n",
       "      <th>quality_theme_exists</th>\n",
       "    </tr>\n",
       "  </thead>\n",
       "  <tbody>\n",
       "  </tbody>\n",
       "</table>\n",
       "</div>"
      ],
      "text/plain": [
       "Empty DataFrame\n",
       "Columns: [_id, domain_global_string, review_rating, review_text, review_title, use_sentiment_label, use_theme_exists, fit_sentiment_label, fit_theme_exists, value_sentiment_label, value_theme_exists, style_sentiment_label, style_theme_exists, quality_sentiment_label, quality_theme_exists]\n",
       "Index: []"
      ]
     },
     "execution_count": 40,
     "metadata": {},
     "output_type": "execute_result"
    }
   ],
   "source": [
    "df[(df['quality_sentiment_label'].notnull()) & (df['quality_theme_exists'].isnull())]"
   ]
  },
  {
   "cell_type": "markdown",
   "metadata": {},
   "source": [
    "To answer the questions for Task 2, it does not make sense to drop rows since there is the possibility that there are other themes present for the row that do indeed have a sentiment label avaiable for analysis."
   ]
  },
  {
   "cell_type": "markdown",
   "metadata": {},
   "source": [
    "TASK 2\n",
    "\n",
    "...analyze the number of reviews for each theme and within each theme, how many reviews were positive and how many were negative."
   ]
  },
  {
   "cell_type": "markdown",
   "metadata": {},
   "source": [
    "Some possible things to do to clean the data and the implications:\n",
    "    \n",
    "1. Assume the values for the sentiment labels are just missing from the data and keep the values for the corresponding _theme_exists columns.  We can still get a count of the number of reviews for each theme, but the second part of analyzing which are are negative/positive will be incomplete.\n",
    "\n",
    "2. Partial imputation.  We assume the value of 1 for the _theme_exists columns is incorrect given that there is no corresponsing sentiment label.  We can replace those values of 1 with 0.  Assuming this assumption is correct, would provide an analysis that is more complete than the above.\n",
    "\n",
    "We can always do two separate analysis on both assumptions.\n",
    "\n",
    "\n",
    "EDIT:\n",
    "After working task 3, I now know why the data was missing, but I will leave my intital comments here to let the reader know my thoughts about missing data."
   ]
  },
  {
   "cell_type": "markdown",
   "metadata": {},
   "source": [
    "## Possible Incorrect Sentiment Labels"
   ]
  },
  {
   "cell_type": "markdown",
   "metadata": {},
   "source": [
    "Because sentiment analysis is not an exact science, we can not assume with 100% accuracy that sentiment model produced the correct label.  This is apparent by looking at the review for id amazonR17DE72WNC7FQM."
   ]
  },
  {
   "cell_type": "code",
   "execution_count": 171,
   "metadata": {
    "scrolled": false
   },
   "outputs": [
    {
     "data": {
      "text/plain": [
       "3    I should have taken a little more time when looking for new leggings, but I hadn't bought any in years and forgot a few cardinal rules. The last ones I bought were puma and they have been amazing: super durable, terrific quality, good fabric. I trusted that all of there leggings were of similar quality and I was wrong. These leggings are of a thin fabric and feel cheap: I'll be very surprised if they last me longer than a few months. I washed them right out of the box so that I could use them right away (I know, I should have known better...), so I didn't really notice the cheapness immediately.\n",
       "Name: review_text, dtype: object"
      ]
     },
     "execution_count": 171,
     "metadata": {},
     "output_type": "execute_result"
    }
   ],
   "source": [
    "#review text\n",
    "df[df['_id'] == 'amazonR17DE72WNC7FQM']['review_text']"
   ]
  },
  {
   "cell_type": "code",
   "execution_count": 173,
   "metadata": {},
   "outputs": [
    {
     "data": {
      "text/plain": [
       "3    1\n",
       "Name: review_rating, dtype: int64"
      ]
     },
     "execution_count": 173,
     "metadata": {},
     "output_type": "execute_result"
    }
   ],
   "source": [
    "#Review rating\n",
    "df[df['_id'] == 'amazonR17DE72WNC7FQM']['review_rating']"
   ]
  },
  {
   "cell_type": "code",
   "execution_count": 172,
   "metadata": {},
   "outputs": [
    {
     "data": {
      "text/plain": [
       "3    pos\n",
       "Name: quality_sentiment_label, dtype: object"
      ]
     },
     "execution_count": 172,
     "metadata": {},
     "output_type": "execute_result"
    }
   ],
   "source": [
    "#quality sentiment label\n",
    "df[df['_id'] == 'amazonR17DE72WNC7FQM']['quality_sentiment_label']"
   ]
  },
  {
   "cell_type": "markdown",
   "metadata": {},
   "source": [
    "The above review has a 'review_rating' of 1, a very low score, and a 'review_title' of 'Disappointing.  However, the quality_sentiment_label has a value of positive!  After reading the review it is apparent the sentiment is not positive.  Without knowing how the model works under the hood it is difficult to say what is going on.  However, I do have an intuition.  A lot of NLP models use n_grams for groups of words and can determine sentiment score on those n-grams.  For example, '...amazing: super durable, terrific quality...' appears in the review.  Taking those groupings together and out of context, the review would seem great.\n",
    "\n",
    "For this task, it may require reading over every review to determine cases like these and either drop data points or correct the labels with the correct ones where it is obvious, as in this example.  For a larger dataset, the task can be daunting or even infeasible given a time constraint.  For this dataset, it is small enough that each row of data can be read through.  I will log a few reviews that seem way off or any points that need to be dropped.  I'll read through the data to understand it better but listing every incorrect label would still be a very long task.\n",
    "\n",
    "What would be helpful if the data would be the actual probability scores associated with the positive and negative label.  Most machine learning/deep learning models also output a proabaility score for the prediction labels. For instance, ['Pos': 0.55, 'Neg': 0.45].  This means the model predicted a 'Pos' label with score with 55% probability and 45% probability for 'Neg' labels. This could be helpful for some intution on the model's predictions."
   ]
  },
  {
   "cell_type": "markdown",
   "metadata": {},
   "source": [
    "### Drop/Incorrect Label Log for the data"
   ]
  },
  {
   "attachments": {},
   "cell_type": "markdown",
   "metadata": {},
   "source": [
    "amazonR17DE72WNC7FQM - quality_sentiment_label:neg\n",
    "\n",
    "amazonR1G0V9QH28G3ZR - quality_sentiment_label:neg\n",
    "\n",
    "amazonR2F4SCGHZZ2X4K - quality_sentiment_label:pos\n",
    "\n",
    "amazonR2ONAUFG04MVWT - fit_sentiment_label:neg, value_sentiment_label:neg, quality_sentiment_label:neg\n",
    "\n",
    "...\n",
    "\n",
    "and so on\n"
   ]
  },
  {
   "cell_type": "markdown",
   "metadata": {},
   "source": [
    "# Analyze Data"
   ]
  },
  {
   "cell_type": "markdown",
   "metadata": {},
   "source": [
    "I have a good understanding of the structure of the data and the pitfalls of the predictive model now.  Since we will be looking at human label performce in task 3, I will analyze the results based on the model as is out of curiosity.  However, take the below analysis with a grain of salt given my concerns with the data stated above."
   ]
  },
  {
   "cell_type": "code",
   "execution_count": 42,
   "metadata": {},
   "outputs": [
    {
     "name": "stdout",
     "output_type": "stream",
     "text": [
      "<class 'pandas.core.frame.DataFrame'>\n",
      "RangeIndex: 300 entries, 0 to 299\n",
      "Data columns (total 15 columns):\n",
      "_id                        300 non-null object\n",
      "domain_global_string       300 non-null object\n",
      "review_rating              300 non-null int64\n",
      "review_text                300 non-null object\n",
      "review_title               278 non-null object\n",
      "use_sentiment_label        146 non-null object\n",
      "use_theme_exists           156 non-null float64\n",
      "fit_sentiment_label        220 non-null object\n",
      "fit_theme_exists           226 non-null float64\n",
      "value_sentiment_label      93 non-null object\n",
      "value_theme_exists         99 non-null float64\n",
      "style_sentiment_label      180 non-null object\n",
      "style_theme_exists         183 non-null float64\n",
      "quality_sentiment_label    201 non-null object\n",
      "quality_theme_exists       215 non-null float64\n",
      "dtypes: float64(5), int64(1), object(9)\n",
      "memory usage: 35.2+ KB\n"
     ]
    }
   ],
   "source": [
    "df.info()"
   ]
  },
  {
   "cell_type": "code",
   "execution_count": 75,
   "metadata": {
    "collapsed": true
   },
   "outputs": [],
   "source": [
    "#function to get neg and pos counts of sentiments\n",
    "def get_theme_totals(df, sentiment, exists):\n",
    "    df = df.groupby(sentiment)[exists].sum()\n",
    "    neg , pos = df['neg'], df['pos']\n",
    "    total = neg+pos\n",
    "    return neg, pos, total"
   ]
  },
  {
   "cell_type": "code",
   "execution_count": 76,
   "metadata": {
    "collapsed": true
   },
   "outputs": [],
   "source": [
    "def theme_percentages(neg, pos, total):\n",
    "    neg_percent = round(neg/total, 2)\n",
    "    pos_percent = round(pos/total, 2)\n",
    "    return neg_percent, pos_percent"
   ]
  },
  {
   "cell_type": "code",
   "execution_count": 77,
   "metadata": {},
   "outputs": [],
   "source": [
    "themes = [('use_sentiment_label', 'use_theme_exists'), ('fit_sentiment_label', 'fit_theme_exists'),\n",
    "          ('value_sentiment_label', 'value_theme_exists'),('style_sentiment_label', 'style_theme_exists'),\n",
    "          ('quality_sentiment_label', 'quality_theme_exists')]"
   ]
  },
  {
   "cell_type": "code",
   "execution_count": 110,
   "metadata": {},
   "outputs": [],
   "source": [
    "def analyze_reviews(df, themes):\n",
    "    #get totals and percentages for each theme\n",
    "    use_neg, use_pos, use_total = get_theme_totals(df, themes[0][0], themes[0][1])\n",
    "    use_negp, use_posp = theme_percentages(use_neg, use_pos, use_total)\n",
    "    \n",
    "    fit_neg, fit_pos, fit_total = get_theme_totals(df, themes[1][0], themes[1][1])\n",
    "    fit_negp, fit_posp = theme_percentages(fit_neg, fit_pos, fit_total)\n",
    "    \n",
    "    value_neg, value_pos, value_total = get_theme_totals(df, themes[2][0], themes[2][1])\n",
    "    value_negp, value_posp = theme_percentages(value_neg, value_pos, value_total)\n",
    "    \n",
    "    style_neg, style_pos, style_total = get_theme_totals(df, themes[3][0], themes[3][1])\n",
    "    style_negp, style_posp = theme_percentages(style_neg, style_pos, style_total)\n",
    "    \n",
    "    quality_neg, quality_pos, quality_total = get_theme_totals(df, themes[4][0], themes[4][1])\n",
    "    quality_negp, quality_posp = theme_percentages(quality_neg, quality_pos, quality_total)\n",
    "    \n",
    "    print(f'OUT OF {len(df)} REVIEWS\\n')\n",
    "    print(f'Use Theme:\\n # of total occurances: {use_total},\\n # of pos reviews: {use_pos}'+\\\n",
    "          f' | {use_posp}%\\n # of neg reviews: {use_neg} | {use_negp}%\\n')\n",
    "    print(f'Fit Theme:\\n # of total occurances: {fit_total},\\n # of pos reviews: {fit_pos}'+\\\n",
    "          f' | {fit_posp}%\\n # of neg reviews: {fit_neg} | {fit_negp}%\\n')\n",
    "    print(f'Value Theme:\\n # of total occurances: {value_total},\\n # of pos reviews: {value_pos}'+\\\n",
    "          f' | {value_posp}%\\n # of neg reviews: {value_neg} | {value_negp}%\\n')\n",
    "    print(f'Style Theme:\\n # of total occurances: {style_total},\\n # of pos reviews: {style_pos}'+\\\n",
    "          f' | {style_posp}%\\n # of neg reviews: {style_neg} | {style_negp}%\\n')\n",
    "    print(f'Quality Theme:\\n # of total occurances: {quality_total},\\n # of pos reviews: {quality_pos}'+\\\n",
    "          f' | {quality_posp}%\\n # of neg reviews: {quality_neg} | {quality_negp}%\\n')\n",
    "    "
   ]
  },
  {
   "cell_type": "code",
   "execution_count": 111,
   "metadata": {},
   "outputs": [
    {
     "name": "stdout",
     "output_type": "stream",
     "text": [
      "OUT OF 300 REVIEWS\n",
      "\n",
      "Use Theme:\n",
      " # of total occurances: 146.0,\n",
      " # of pos reviews: 133.0 | 0.91%\n",
      " # of neg reviews: 13.0 | 0.09%\n",
      "\n",
      "Fit Theme:\n",
      " # of total occurances: 220.0,\n",
      " # of pos reviews: 205.0 | 0.93%\n",
      " # of neg reviews: 15.0 | 0.07%\n",
      "\n",
      "Value Theme:\n",
      " # of total occurances: 93.0,\n",
      " # of pos reviews: 79.0 | 0.85%\n",
      " # of neg reviews: 14.0 | 0.15%\n",
      "\n",
      "Style Theme:\n",
      " # of total occurances: 180.0,\n",
      " # of pos reviews: 165.0 | 0.92%\n",
      " # of neg reviews: 15.0 | 0.08%\n",
      "\n",
      "Quality Theme:\n",
      " # of total occurances: 201.0,\n",
      " # of pos reviews: 168.0 | 0.84%\n",
      " # of neg reviews: 33.0 | 0.16%\n",
      "\n"
     ]
    }
   ],
   "source": [
    "analyze_reviews(df,themes)"
   ]
  },
  {
   "cell_type": "code",
   "execution_count": 119,
   "metadata": {},
   "outputs": [],
   "source": [
    "theme_data = {'Sentiment': ['pos', 'pos','pos', 'pos', 'pos', 'neg', 'neg', 'neg', 'neg', 'neg'],\n",
    "              'Theme': ['Use', 'Fit', 'Value', 'Style', 'Quality', 'Use', 'Fit', 'Value', 'Style', 'Quality'],\n",
    "              '# of reviews': [133, 205, 79, 165, 168, 13, 15, 14, 15, 33]}"
   ]
  },
  {
   "cell_type": "code",
   "execution_count": 120,
   "metadata": {
    "collapsed": true
   },
   "outputs": [],
   "source": [
    "df_theme = pd.DataFrame(theme_data)"
   ]
  },
  {
   "cell_type": "code",
   "execution_count": 131,
   "metadata": {},
   "outputs": [
    {
     "data": {
      "image/png": "[encoded data removed]",
      "text/plain": [
       "<Figure size 1080x720 with 1 Axes>"
      ]
     },
     "metadata": {},
     "output_type": "display_data"
    }
   ],
   "source": [
    "plt.figure(figsize=(15, 10))\n",
    "ax = sn.barplot(data=df_theme, x='Theme', y='# of reviews', hue='Sentiment')\n",
    "ax.set(xlabel='Theme', title='Sentiment Themes');"
   ]
  },
  {
   "cell_type": "code",
   "execution_count": null,
   "metadata": {
    "collapsed": true
   },
   "outputs": [],
   "source": []
  }
 ],
 "metadata": {
  "kernelspec": {
   "display_name": "Python 3",
   "language": "python",
   "name": "python3"
  },
  "language_info": {
   "codemirror_mode": {
    "name": "ipython",
    "version": 3
   },
   "file_extension": ".py",
   "mimetype": "text/x-python",
   "name": "python",
   "nbconvert_exporter": "python",
   "pygments_lexer": "ipython3",
   "version": "3.6.3"
  }
 },
 "nbformat": 4,
 "nbformat_minor": 2
}
